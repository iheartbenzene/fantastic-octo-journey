{
 "cells": [
  {
   "cell_type": "markdown",
   "metadata": {},
   "source": [
    "### Imports"
   ]
  },
  {
   "cell_type": "code",
   "execution_count": 1342,
   "metadata": {},
   "outputs": [
    {
     "data": {
      "text/html": [
       "<script type=\"text/javascript\">window.PlotlyConfig = {MathJaxConfig: 'local'};</script><script type=\"text/javascript\">if (window.MathJax) {MathJax.Hub.Config({SVG: {font: \"STIX-Web\"}});}</script><script>requirejs.config({paths: { 'plotly': ['https://cdn.plot.ly/plotly-latest.min']},});if(!window._Plotly) {require(['plotly'],function(plotly) {window._Plotly=plotly;});}</script>"
      ],
      "text/vnd.plotly.v1+html": [
       "<script type=\"text/javascript\">window.PlotlyConfig = {MathJaxConfig: 'local'};</script><script type=\"text/javascript\">if (window.MathJax) {MathJax.Hub.Config({SVG: {font: \"STIX-Web\"}});}</script><script>requirejs.config({paths: { 'plotly': ['https://cdn.plot.ly/plotly-latest.min']},});if(!window._Plotly) {require(['plotly'],function(plotly) {window._Plotly=plotly;});}</script>"
      ]
     },
     "metadata": {},
     "output_type": "display_data"
    },
    {
     "data": {
      "text/html": [
       "<script type=\"text/javascript\">window.PlotlyConfig = {MathJaxConfig: 'local'};</script><script type=\"text/javascript\">if (window.MathJax) {MathJax.Hub.Config({SVG: {font: \"STIX-Web\"}});}</script><script>requirejs.config({paths: { 'plotly': ['https://cdn.plot.ly/plotly-latest.min']},});if(!window._Plotly) {require(['plotly'],function(plotly) {window._Plotly=plotly;});}</script>"
      ],
      "text/vnd.plotly.v1+html": [
       "<script type=\"text/javascript\">window.PlotlyConfig = {MathJaxConfig: 'local'};</script><script type=\"text/javascript\">if (window.MathJax) {MathJax.Hub.Config({SVG: {font: \"STIX-Web\"}});}</script><script>requirejs.config({paths: { 'plotly': ['https://cdn.plot.ly/plotly-latest.min']},});if(!window._Plotly) {require(['plotly'],function(plotly) {window._Plotly=plotly;});}</script>"
      ]
     },
     "metadata": {},
     "output_type": "display_data"
    },
    {
     "data": {
      "text/html": [
       "<script type=\"text/javascript\">window.PlotlyConfig = {MathJaxConfig: 'local'};</script><script type=\"text/javascript\">if (window.MathJax) {MathJax.Hub.Config({SVG: {font: \"STIX-Web\"}});}</script><script>requirejs.config({paths: { 'plotly': ['https://cdn.plot.ly/plotly-latest.min']},});if(!window._Plotly) {require(['plotly'],function(plotly) {window._Plotly=plotly;});}</script>"
      ],
      "text/vnd.plotly.v1+html": [
       "<script type=\"text/javascript\">window.PlotlyConfig = {MathJaxConfig: 'local'};</script><script type=\"text/javascript\">if (window.MathJax) {MathJax.Hub.Config({SVG: {font: \"STIX-Web\"}});}</script><script>requirejs.config({paths: { 'plotly': ['https://cdn.plot.ly/plotly-latest.min']},});if(!window._Plotly) {require(['plotly'],function(plotly) {window._Plotly=plotly;});}</script>"
      ]
     },
     "metadata": {},
     "output_type": "display_data"
    }
   ],
   "source": [
    "import numpy as np\n",
    "import scipy\n",
    "import sklearn as sk\n",
    "import matplotlib.pyplot as plt\n",
    "import math\n",
    "from math import pi\n",
    "from just_some_functions import *\n",
    "#from statistics import *\n",
    "from scipy.stats import *\n",
    "import statsmodels.api as sm\n",
    "from decimal import Decimal\n",
    "\n",
    "import plotly\n",
    "import plotly.plotly as py\n",
    "import plotly.figure_factory as ff\n",
    "import plotly.graph_objs as go\n",
    "from plotly.offline import iplot, init_notebook_mode\n",
    "from plotly.offline import download_plotlyjs, init_notebook_mode, plot, iplot\n",
    "import cufflinks as cf\n",
    "cf.set_config_file(offline=True)\n",
    "import cufflinks\n",
    "cufflinks.go_offline(connected=True)\n",
    "init_notebook_mode(connected=True)\n",
    "\n",
    "import gspread\n",
    "from gspread import *\n",
    "import pandas as pd\n",
    "\n",
    "from oauth2client.service_account import ServiceAccountCredentials\n",
    "\n",
    "import time\n",
    "from datetime import *\n",
    "\n",
    "import random\n",
    "\n",
    "# from io import StringIO\n",
    "# import requests\n"
   ]
  },
  {
   "cell_type": "code",
   "execution_count": 1343,
   "metadata": {},
   "outputs": [],
   "source": [
    "from sklearn.preprocessing import MinMaxScaler\n",
    "from sklearn.preprocessing import LabelEncoder, OneHotEncoder\n",
    "\n",
    "from sklearn.model_selection import train_test_split\n",
    "from sklearn.model_selection import GridSearchCV\n",
    "from sklearn.model_selection import RandomizedSearchCV\n",
    "from sklearn.model_selection import ShuffleSplit\n",
    "from sklearn.model_selection import KFold\n",
    "from sklearn.model_selection import cross_val_score\n",
    "\n",
    "from sklearn import svm, tree, linear_model, neighbors\n",
    "from sklearn import naive_bayes, ensemble, discriminant_analysis, gaussian_process\n",
    "from sklearn.linear_model import LogisticRegression\n",
    "from sklearn.tree import DecisionTreeClassifier\n",
    "from sklearn.neighbors import KNeighborsClassifier\n",
    "from sklearn.discriminant_analysis import LinearDiscriminantAnalysis\n",
    "from sklearn.naive_bayes import GaussianNB\n",
    "from sklearn.svm import SVC\n",
    "from sklearn.neighbors import KNeighborsClassifier\n",
    "from xgboost import XGBClassifier \n",
    "from sklearn.ensemble import RandomForestClassifier\n",
    "\n",
    "from sklearn import feature_selection\n",
    "from sklearn import model_selection\n",
    "from sklearn import metrics\n",
    "\n",
    "from sklearn.metrics import confusion_matrix, classification_report, precision_recall_curve\n",
    "from sklearn.metrics import auc, roc_auc_score, roc_curve, recall_score, log_loss\n",
    "from sklearn.metrics import f1_score, accuracy_score, roc_auc_score, make_scorer\n",
    "from sklearn.metrics import average_precision_score\n",
    "\n",
    "import os\n",
    "import re\n",
    "import sys\n",
    "import timeit\n",
    "import string\n",
    "from datetime import datetime\n",
    "from time import time\n",
    "from dateutil.parser import parse"
   ]
  },
  {
   "cell_type": "markdown",
   "metadata": {},
   "source": [
    "Need to run the cell below for the initial load of the data"
   ]
  },
  {
   "cell_type": "code",
   "execution_count": 1344,
   "metadata": {},
   "outputs": [],
   "source": [
    "scope = ['https://spreadsheets.google.com/feeds', 'https://www.googleapis.com/auth/drive']\n",
    "\n",
    "credentials = ServiceAccountCredentials.from_json_keyfile_name('json/dungeon runner-6a51b68a1239.json', scope)\n",
    "\n",
    "gspread_credentials = gspread.authorize(credentials)\n",
    "\n",
    "expense_related_worksheet = gspread_credentials.open_by_key('1tKPle0EOUtjTcFtqLqHXcM_iPxlf3MV4RYHfi59d8k0') \n",
    "\n",
    "expense_categories = expense_related_worksheet.sheet1\n",
    "\n",
    "work_hours_related_worksheet = gspread_credentials.open_by_key('1RdACxeor-Y4NZlmiAU1eQopvcU_I2J54KOpc2AWYfU8')\n",
    "\n",
    "work_hours_categories = work_hours_related_worksheet.sheet1\n",
    "\n",
    "#Place the related line below in all functions relating to retrieving data from the worksheets\n",
    "#Commented here so they do not load twice every time I run this cell.\n",
    "\n",
    "# expense_categories_data_frame = pd.DataFrame(expense_categories.get_all_records())\n",
    "# work_hours_categories_data_frame = pd.DataFrame(work_hours_categories.get_all_records())\n",
    "\n",
    "# line = requests.get(\"https://docs.google.com/spreadsheets/d/1GYQAl8UUgqTWFTPOzdc1ytrL5TrIoI67Yr4ThFAf_Fk/edit?usp=sharing\")\n",
    "# expense_data_set = line.content \n",
    "# expense_data_frame = pd.read_excel(StringIO(expense_data_set), index_col=1, parse_dates=['purchase_date'])\n"
   ]
  },
  {
   "cell_type": "code",
   "execution_count": 1345,
   "metadata": {},
   "outputs": [
    {
     "data": {
      "text/plain": [
       "{dtype('float64'): Index(['purchase_amount'], dtype='object'),\n",
       " dtype('O'): Index(['', 'distance_from_home', 'merchant_category',\n",
       "        'merchant_with_highest_amount', 'purchase_category', 'purchase_date',\n",
       "        'recurring', 'repurchase'],\n",
       "       dtype='object')}"
      ]
     },
     "execution_count": 1345,
     "metadata": {},
     "output_type": "execute_result"
    }
   ],
   "source": [
    "expense_categories_data_frame_source = pd.DataFrame(expense_categories.get_all_records())\n",
    "expense_categories_data_frame = expense_categories_data_frame_source.copy()\n",
    "expense_categories_data_frame.columns.to_series().groupby(expense_categories_data_frame.dtypes).groups"
   ]
  },
  {
   "cell_type": "code",
   "execution_count": 1184,
   "metadata": {},
   "outputs": [
    {
     "data": {
      "text/plain": [
       "{dtype('float64'): Index(['actual_gross_annual_salary', 'actual_gross_weekly_salary',\n",
       "        'actual_net_annual_salary', 'approx_taxes_due', 'hourly_rate',\n",
       "        'hours_worked_weekly', 'pre_tax_deductiions',\n",
       "        'projected_gross_annual_salary', 'projected_net_annual_salary'],\n",
       "       dtype='object'),\n",
       " dtype('O'): Index(['hours_worked_daily', 'is_hourly_worker', 'is_salary_worker', 'time',\n",
       "        'week_of'],\n",
       "       dtype='object')}"
      ]
     },
     "execution_count": 1184,
     "metadata": {},
     "output_type": "execute_result"
    }
   ],
   "source": [
    "work_hours_categories_data_frame_source = pd.DataFrame(work_hours_categories.get_all_records())\n",
    "work_hours_categories_data_frame = work_hours_categories_data_frame_source.copy()\n",
    "work_hours_categories_data_frame.columns.to_series().groupby(work_hours_categories_data_frame.dtypes).groups"
   ]
  },
  {
   "cell_type": "markdown",
   "metadata": {},
   "source": [
    "Each time must run the \"get all records\" function to pull new information.\n",
    "Each \"check\" method is to verify the existence of null values."
   ]
  },
  {
   "cell_type": "code",
   "execution_count": 1185,
   "metadata": {},
   "outputs": [],
   "source": [
    "def load_expense_data():\n",
    "    expense_categories_data_frame_source = pd.DataFrame(expense_categories.get_all_records())\n",
    "    expense_categories_data_frame = expense_categories_data_frame_source.copy()\n",
    "    expense_categories_data_frame.columns\n",
    "    return expense_categories_data_frame.head()\n",
    "\n",
    "def check_expense_data():\n",
    "    expense_categories_data_frame_source = pd.DataFrame(expense_categories.get_all_records())\n",
    "    expense_categories_data_frame = expense_categories_data_frame_source.copy()\n",
    "    expense_categories_data_frame.columns\n",
    "    return expense_categories_data_frame.info()\n",
    "\n",
    "def load_work_hours_data():\n",
    "    work_hours_categories_data_frame_source = pd.DataFrame(work_hours_categories.get_all_records())\n",
    "    work_hours_categories_data_frame = work_hours_categories_data_frame_source.copy()\n",
    "    work_hours_categories_data_frame.columns\n",
    "    return work_hours_categories_data_frame.head()\n",
    "\n",
    "def check_work_hours_data():\n",
    "    work_hours_categories_data_frame_source = pd.DataFrame(work_hours_categories.get_all_records())\n",
    "    work_hours_categories_data_frame = work_hours_categories_data_frame_source.copy()\n",
    "    work_hours_categories_data_frame.columns\n",
    "    return work_hours_categories_data_frame.info()"
   ]
  },
  {
   "cell_type": "code",
   "execution_count": 1424,
   "metadata": {},
   "outputs": [],
   "source": [
    "def load_all_data():\n",
    "    load_expense_data()\n",
    "    load_work_hours_data()\n"
   ]
  },
  {
   "cell_type": "code",
   "execution_count": 1425,
   "metadata": {},
   "outputs": [],
   "source": [
    "load_all_data()"
   ]
  },
  {
   "cell_type": "code",
   "execution_count": 1423,
   "metadata": {},
   "outputs": [],
   "source": [
    "# load_expense_data()"
   ]
  },
  {
   "cell_type": "code",
   "execution_count": 1420,
   "metadata": {},
   "outputs": [],
   "source": [
    "# check_expense_data()"
   ]
  },
  {
   "cell_type": "code",
   "execution_count": 1421,
   "metadata": {},
   "outputs": [],
   "source": [
    "# load_work_hours_data()"
   ]
  },
  {
   "cell_type": "code",
   "execution_count": 1422,
   "metadata": {},
   "outputs": [],
   "source": [
    "# check_work_hours_data()"
   ]
  },
  {
   "cell_type": "markdown",
   "metadata": {},
   "source": [
    "Start \"don't need\""
   ]
  },
  {
   "cell_type": "code",
   "execution_count": 1190,
   "metadata": {},
   "outputs": [],
   "source": [
    "avg_work_hrs_yr = 40 * 52\n",
    "#print(avg_work_hrs_yr)"
   ]
  },
  {
   "cell_type": "code",
   "execution_count": 1426,
   "metadata": {},
   "outputs": [],
   "source": [
    "# hours = pd.readcsv('work_hours.csv')\n",
    "# hr_per_week = pd.readcsv('work_week.csv')\n",
    "\n",
    "# set hourly rate\n",
    "# rates = pd.readcsv('hourly_rate.csv')\n",
    "\n",
    "# deduction = pd.readcsv('deductions.csv')\n",
    "\n",
    "# hours = np.loadtxt(\"work_hours.txt\")\n",
    "# hours_per_week = np.loadtxt(\"work_week.txt\")\n",
    "# hourly_rates = np.loadtxt(\"hourly_rate.txt\")\n",
    "# pre_tax_deduction = np.loadtxt(\"pre_tax_deductions.txt\")\n",
    "# salary = np.loadtxt(\"annual_salary.txt\")"
   ]
  },
  {
   "cell_type": "code",
   "execution_count": 1192,
   "metadata": {},
   "outputs": [],
   "source": [
    "hours_worked_so_far = []\n",
    "def weeks_worked(): \n",
    "    for i in hours:\n",
    "        if i != 0:\n",
    "            hours_worked_so_far.append(i)\n",
    "    return len(hours_worked_so_far)\n",
    "\n",
    "#print(weeks_worked())"
   ]
  },
  {
   "cell_type": "markdown",
   "metadata": {},
   "source": [
    "End \"don't need\""
   ]
  },
  {
   "cell_type": "markdown",
   "metadata": {},
   "source": [
    "### Deductions"
   ]
  },
  {
   "cell_type": "markdown",
   "metadata": {},
   "source": [
    "##### Need to make updatable via outside txt file: DONE"
   ]
  },
  {
   "cell_type": "markdown",
   "metadata": {},
   "source": [
    "Start \"don't need\""
   ]
  },
  {
   "cell_type": "code",
   "execution_count": 1193,
   "metadata": {},
   "outputs": [],
   "source": [
    "def marital_status(string):\n",
    "    pass"
   ]
  },
  {
   "cell_type": "code",
   "execution_count": 1194,
   "metadata": {},
   "outputs": [],
   "source": [
    "def deductions_from_taxable_income():\n",
    "    for item in pre_tax_deductions:\n",
    "        pass #increases the total amount to be deducted by the new item."
   ]
  },
  {
   "cell_type": "code",
   "execution_count": 1195,
   "metadata": {},
   "outputs": [],
   "source": [
    "# tax_brackets = pd.read_excel(\"tax_brackets.xlsx\")\n",
    "# Use the above to update the bracket estimation\n",
    "\n",
    "def tax_bracket_estimation(total_gross_income):\n",
    "    if 0.00 < total_gross_income <= 9700:\n",
    "        tax_bracket = (total_gross_income - deductions()) * 0.10\n",
    "        tax_bracket = round(tax_bracket, 2)\n",
    "        return tax_bracket\n",
    "    elif 9700 < total_gross_income <= 39475:\n",
    "        tax_bracket = (total_gross_income - marital_status() - deductions()) * 0.12\n",
    "        tax_bracket = round(tax_bracket, 2)\n",
    "        return tax_bracket\n",
    "    elif 39475 < total_gross_income <= 84200:\n",
    "        tax_bracket = (total_gross_income - marital_status() - deductions()) * 0.22\n",
    "        tax_bracket = round(tax_bracket, 2)\n",
    "        return tax_bracket\n",
    "    elif 84200 < total_gross_income <= 160725:\n",
    "        tax_bracket = (total_gross_income - marital_status() - deductions()) * 0.24\n",
    "        tax_bracket = round(tax_bracket, 2)\n",
    "        return tax_bracket\n",
    "    elif 160725 < total_gross_income < 204100:\n",
    "        tax_bracket = (total_gross_income - marital_status() - deductions()) * 0.32\n",
    "        tax_bracket = round(tax_bracket, 2)\n",
    "        return tax_bracket\n",
    "    elif 204100 < total_gross_income < 510300:\n",
    "        tax_bracket = (total_gross_income - marital_status() - deductions()) * 0.35\n",
    "        tax_bracket = round(tax_bracket, 2)\n",
    "        return tax_bracket\n",
    "    else:\n",
    "        tax_bracket = (total_gross_income - marital_status() - deductions()) * 0.37\n",
    "        tax_bracket = round(tax_bracket, 2)\n",
    "        return tax_bracket"
   ]
  },
  {
   "cell_type": "markdown",
   "metadata": {},
   "source": [
    "End \"don't need\""
   ]
  },
  {
   "cell_type": "markdown",
   "metadata": {},
   "source": [
    "### Compute gross income"
   ]
  },
  {
   "cell_type": "markdown",
   "metadata": {},
   "source": [
    "Start \"don't need\""
   ]
  },
  {
   "cell_type": "markdown",
   "metadata": {},
   "source": [
    "###### temporary test values"
   ]
  },
  {
   "cell_type": "code",
   "execution_count": 1196,
   "metadata": {},
   "outputs": [],
   "source": [
    "#hours = 40\n",
    "#hourly_rates = 20.92\n",
    "#pre_tax_deductions = 300\n",
    "\n",
    "#monthly_wage = sum(hours) * hourly_rates\n",
    "#Bug in weeks_worked() that causes it to keep counting\n",
    "\n",
    "#print(sum(hours))\n",
    "#print(hourly_rates)\n",
    "#print(monthly_wage)"
   ]
  },
  {
   "cell_type": "markdown",
   "metadata": {},
   "source": [
    "###### end temporary test values"
   ]
  },
  {
   "cell_type": "code",
   "execution_count": 1197,
   "metadata": {},
   "outputs": [],
   "source": [
    "def total_gross_income():\n",
    "    total_gross_income = np.sum(wage) - 40 * hourly_rates\n",
    "    return total_gross_income\n",
    "\n",
    "#print(wage)\n",
    "#print(total_gross_income())"
   ]
  },
  {
   "cell_type": "markdown",
   "metadata": {},
   "source": [
    "End \"don't need\""
   ]
  },
  {
   "cell_type": "markdown",
   "metadata": {},
   "source": [
    "##### Pay Period Cycling"
   ]
  },
  {
   "cell_type": "code",
   "execution_count": 1198,
   "metadata": {},
   "outputs": [],
   "source": [
    "def awaiting_next_pay_period(pay_schedule):\n",
    "    # sleep(seconds per minute * minutes per hour * hours per day * days per week * weeks per period)\n",
    "    if pay_schedule == 1:\n",
    "        time.sleep(60*60*24*7*1)\n",
    "        wage.append(hours*rates)\n",
    "        \n",
    "    elif pay_schedule == 2:\n",
    "        time.sleep(60*60*24*7*2)\n",
    "        wage.append(hours*rates)\n",
    "    \n",
    "    elif pay_schedule == 3:\n",
    "        time.sleep(60*60*24*7*3)\n",
    "        wage.append(hours*rates)\n",
    "    \n",
    "    elif pay_schedule == 4:\n",
    "        time.sleep(60*60*24*7*4)\n",
    "        wage.append(hours*rates)\n",
    "        \n",
    "#TODO update for a \"twice per month\" setting to include those who would be paid on two fixed calendar dates"
   ]
  },
  {
   "cell_type": "markdown",
   "metadata": {},
   "source": [
    "### Projected Annual Income"
   ]
  },
  {
   "cell_type": "markdown",
   "metadata": {},
   "source": [
    "Start \"don't need\""
   ]
  },
  {
   "cell_type": "code",
   "execution_count": 1428,
   "metadata": {},
   "outputs": [],
   "source": [
    "#tax_bracket = 0.22"
   ]
  },
  {
   "cell_type": "code",
   "execution_count": 1429,
   "metadata": {},
   "outputs": [],
   "source": [
    "#projected_annual_income = (avg_work_hrs_yr * hourly_rates) - tax_bracket * (avg_work_hrs_yr * hourly_rates) \n",
    "\n",
    "# projected_annual_income = projected_annual_income - tax_deduction * projected_annual_income\n",
    "#print(projected_annual_income)"
   ]
  },
  {
   "cell_type": "markdown",
   "metadata": {},
   "source": [
    "End \"don't need\""
   ]
  },
  {
   "cell_type": "markdown",
   "metadata": {},
   "source": [
    "### Compute net income"
   ]
  },
  {
   "cell_type": "code",
   "execution_count": 1430,
   "metadata": {},
   "outputs": [],
   "source": [
    "# net_income_01 = total_gross_income() - tax_bracket * total_gross_income()\n",
    "# print(net_income_01)\n",
    "\n",
    "actual_net_salary = work_hours_categories_data_frame['actual_net_annual_salary'].apply(pd.to_numeric)\n",
    "#actual_net_salary"
   ]
  },
  {
   "cell_type": "markdown",
   "metadata": {},
   "source": [
    "### Compute expenses"
   ]
  },
  {
   "cell_type": "code",
   "execution_count": 1231,
   "metadata": {},
   "outputs": [],
   "source": [
    "# bills_01 = pd.read_excel('bills01.xlsx')\n",
    "\n",
    "#bills_01 = np.matrix(np.loadtxt('bills_1.txt'))\n",
    "# bills_01 = np.loadtxt('bills_1.txt')\n",
    "\n",
    "# expenses_01 = np.sum(bills_01)\n",
    "\n",
    "#print(expenses_01)\n",
    "#print(bills_01.shape)\n",
    "\n",
    "purchase_amounts = expense_categories_data_frame['purchase_amount'].apply(pd.to_numeric, errors='coerce')\n",
    "# purchase_amounts"
   ]
  },
  {
   "cell_type": "markdown",
   "metadata": {},
   "source": [
    "### Compute remaining income"
   ]
  },
  {
   "cell_type": "code",
   "execution_count": 1230,
   "metadata": {},
   "outputs": [],
   "source": [
    "# remaining_income = net_income_01 - expenses_01\n",
    "\n",
    "# Need to convert string to number\n",
    "\n",
    "def remaining_income():\n",
    "    for i in purchase_amounts:\n",
    "        remaining_income = actual_net_salary - purchase_amounts\n",
    "        return remaining_income\n",
    "\n",
    "#remaining_income\n",
    "# remaining_income()"
   ]
  },
  {
   "cell_type": "code",
   "execution_count": 1204,
   "metadata": {},
   "outputs": [],
   "source": [
    "    \n",
    "# remaining_annual_income = projected_annual_income - remaining_income\n",
    "#print(remaining_annual_income)\n"
   ]
  },
  {
   "cell_type": "markdown",
   "metadata": {},
   "source": [
    "### Linear regression plot"
   ]
  },
  {
   "cell_type": "code",
   "execution_count": 1205,
   "metadata": {},
   "outputs": [],
   "source": [
    "j = np.array(bills_01).shape[0]\n",
    "i = np.arange(j)\n",
    "#m = np.sum((i - np.sum(i)/len(i)) * bills_01) / np.sum((i - np.sum(i)/len(i)) ** 2)\n",
    "#c = np.sum(bills_01)/len(bills_01) #- m * np.sum(i)/len(i)\n",
    "\n",
    "#print(j)\n",
    "#print(i)\n",
    "#print(bills_01.shape)\n",
    "#print(c)"
   ]
  },
  {
   "cell_type": "code",
   "execution_count": 1208,
   "metadata": {},
   "outputs": [],
   "source": [
    "\n",
    "# Average spending per data point in bills\n",
    "# TODO convert to average spending per day\n",
    "# average_spent_per_day = np.sum(bills_01)/len(bills_01)\n",
    "# print(\"The average spent per day was: \", average_spent_per_day)\n",
    "\n",
    "# General disparity\n",
    "# despair_ity = (projected_annual_income - remaining_income) / projected_annual_income\n",
    "# print(\"With disparity: \", despair_ity)"
   ]
  },
  {
   "cell_type": "markdown",
   "metadata": {},
   "source": [
    "Start temp/test data"
   ]
  },
  {
   "cell_type": "code",
   "execution_count": 1209,
   "metadata": {},
   "outputs": [],
   "source": [
    "import random\n",
    "\n",
    "def temp_data(number_of_points, bias, variance):\n",
    "    x = np.zeros(shape=(number_of_points, 2))\n",
    "    y = np.zeros(shape=number_of_points)\n",
    "    # basically a straight line\n",
    "    for i in range(0, number_of_points):\n",
    "        # bias feature\n",
    "        x[i][0] = 1\n",
    "        x[i][1] = i\n",
    "        # our target variable\n",
    "        y[i] = (i + bias) + random.uniform(0, 1) * variance\n",
    "    return x, y\n",
    "\n",
    "temp_i, temp_bills = temp_data(100, 5, 100)\n"
   ]
  },
  {
   "cell_type": "markdown",
   "metadata": {},
   "source": [
    "End temp/test data"
   ]
  },
  {
   "cell_type": "code",
   "execution_count": 1210,
   "metadata": {},
   "outputs": [],
   "source": [
    "def regression_plot(x, y):\n",
    "    plt.plot(x, y.T, 'rx')\n",
    "    plt.plot(x, y.T)\n",
    "\n",
    "    m, c = np.polyfit(x, y.T, 1)\n",
    "\n",
    "    #fitting function needs a 1d polynomial\n",
    "    #fitting_function = np.poly1d((np.polyfit(i, bills_01.T, 1)))\n",
    "\n",
    "    plt.plot(m*i + c)\n",
    "\n",
    "    #plt.plot(i, bills_01, 'yo', i, fitting_function(i), '--k')\n",
    "    #plt.xlim(0, 5)\n",
    "    #plt.ylim(0, 12)\n",
    "\n",
    "    #Plotting some test data since the current txt files are empty\n",
    "    #temp_i = temp_i\n",
    "    #temp_m = np.sum(np.matrix(temp_i - np.average(temp_i)).T * np.matrix(temp_bills).T) / np.sum((temp_i - np.average(temp_i)) ** 2)\n",
    "    #temp_c = np.average(temp_bills) - temp_m * np.average(temp_i)\n",
    "\n",
    "    #plt.plot(temp_i, temp_bills)\n",
    "    #plt.plot(temp_m*temp_i + temp_c)\n",
    "\n",
    "    plt.xlabel('purchase number')\n",
    "    plt.ylabel('amount spent per day')\n",
    "    plt.show()\n"
   ]
  },
  {
   "cell_type": "code",
   "execution_count": 1418,
   "metadata": {},
   "outputs": [],
   "source": [
    "def purchase_regression(x):\n",
    "    #In days or number of data points\n",
    "    regression_plot(range(0, x+1), purchase_amounts[0:x+1])\n",
    "\n",
    "#The function below should update with each additional input for purchases.\n",
    "#Provided that the new data is pulled from the spreadsheet\n",
    "def purchase_analysis():\n",
    "    #In days or number of data points\n",
    "    regression_plot(range(0, len(expense_categories_data_frame['purchase_amount'])-expense_categories_data_frame['purchase_amount'].value_counts()[0]+1),\n",
    "                    purchase_amounts[0:len(expense_categories_data_frame['purchase_amount'])-expense_categories_data_frame['purchase_amount'].value_counts()[0]+1])\n"
   ]
  },
  {
   "cell_type": "code",
   "execution_count": 1410,
   "metadata": {},
   "outputs": [],
   "source": [
    "def analytics_text(data):\n",
    "    print(\"With mean: \", mean(data), \" and standard deviation: \", stdev(data))\n",
    "    print(\"With this trend, your expenses could possibly increase to {:0.2f} at your next purchase.\".format(mean(data)+stdev(data)))\n",
    "    print(\"However, since your current savings are at {}, please try and be reasonable about spending.\".format(remaining_income))"
   ]
  },
  {
   "cell_type": "code",
   "execution_count": 1411,
   "metadata": {},
   "outputs": [],
   "source": [
    "def purchase_analytics_text():\n",
    "    print(\"With mean: {:0.4f} and standard deviation: {:0.4f} \".format(mean(purchase_amounts),stdev(purchase_amounts)))\n",
    "    print(\"With this trend, your expenses could possibly increase to {:0.2f} at your next purchase.\".format(mean(purchase_amounts)+stdev(purchase_amounts)))"
   ]
  },
  {
   "cell_type": "code",
   "execution_count": 1412,
   "metadata": {},
   "outputs": [],
   "source": [
    "# regression_plot(i, bills_01)\n",
    "# Will have a difference with purchase_regression since the data set is different"
   ]
  },
  {
   "cell_type": "code",
   "execution_count": 1413,
   "metadata": {
    "scrolled": false
   },
   "outputs": [],
   "source": [
    "# purchase_regression(84)"
   ]
  },
  {
   "cell_type": "code",
   "execution_count": 1414,
   "metadata": {},
   "outputs": [
    {
     "data": {
      "image/png": "[encoded data removed]",
      "text/plain": [
       "<Figure size 432x288 with 1 Axes>"
      ]
     },
     "metadata": {
      "needs_background": "light"
     },
     "output_type": "display_data"
    }
   ],
   "source": [
    "purchase_analysis()"
   ]
  },
  {
   "cell_type": "code",
   "execution_count": 1216,
   "metadata": {},
   "outputs": [
    {
     "name": "stdout",
     "output_type": "stream",
     "text": [
      "With mean: 6.9632 and standard deviation: 48.2908 \n",
      "With this trend, your expenses could possibly increase to 55.25 at your next purchase.\n"
     ]
    }
   ],
   "source": [
    "purchase_analytics_text()"
   ]
  },
  {
   "cell_type": "code",
   "execution_count": 1217,
   "metadata": {},
   "outputs": [],
   "source": [
    "# analytics_text(bills_01)\n",
    "# Will have a difference with purchase_analytics_text since the data set is different"
   ]
  },
  {
   "cell_type": "markdown",
   "metadata": {},
   "source": [
    "Purchase by category"
   ]
  },
  {
   "cell_type": "code",
   "execution_count": 1355,
   "metadata": {},
   "outputs": [],
   "source": [
    "def determine_category_value_counts_and_ranges(category):\n",
    "    print(expense_categories_data_frame[category].value_counts())\n",
    "    print('With overall size of: ', len(expense_categories_data_frame[category]))\n",
    "    print('So end the range at, ', len(expense_categories_data_frame[category])-expense_categories_data_frame[category].value_counts()[0])"
   ]
  },
  {
   "cell_type": "code",
   "execution_count": 1417,
   "metadata": {},
   "outputs": [],
   "source": [
    "# determine_category_value_counts_and_ranges('merchant_category')"
   ]
  },
  {
   "cell_type": "code",
   "execution_count": 1416,
   "metadata": {},
   "outputs": [],
   "source": [
    "# determine_category_value_counts_and_ranges('purchase_category')"
   ]
  },
  {
   "cell_type": "code",
   "execution_count": 1370,
   "metadata": {},
   "outputs": [],
   "source": [
    "def visits_by_merchant_category(n):\n",
    "    merchant_category_frame = expense_categories_data_frame['merchant_category'][:n].value_counts()\n",
    "    merchant_category_frame.plot(kind='bar', title='Number of Occurences by Merchant Type')\n",
    "    "
   ]
  },
  {
   "cell_type": "code",
   "execution_count": 1371,
   "metadata": {},
   "outputs": [],
   "source": [
    "def purchases_by_category(n):\n",
    "    purchase_category_frame = expense_categories_data_frame['purchase_category'][:n].value_counts()\n",
    "    purchase_category_frame.plot(kind='bar', title='Number of Occurences by Purchase Type')\n",
    "    "
   ]
  },
  {
   "cell_type": "code",
   "execution_count": 1372,
   "metadata": {},
   "outputs": [],
   "source": [
    "def visits_by_merchant_name(n):\n",
    "    merchant_name_category_frame = expense_categories_data_frame['merchant_with_highest_amount'][:n].value_counts()\n",
    "    merchant_name_category_frame.plot(kind='bar', title='Number of Occurences by Merchant')\n",
    "    "
   ]
  },
  {
   "cell_type": "code",
   "execution_count": 1373,
   "metadata": {},
   "outputs": [
    {
     "data": {
      "image/png": "[encoded data removed]",
      "text/plain": [
       "<Figure size 432x288 with 1 Axes>"
      ]
     },
     "metadata": {
      "needs_background": "light"
     },
     "output_type": "display_data"
    }
   ],
   "source": [
    "visits_by_merchant_category(94)"
   ]
  },
  {
   "cell_type": "code",
   "execution_count": 1374,
   "metadata": {},
   "outputs": [
    {
     "data": {
      "image/png": "[encoded data removed]",
      "text/plain": [
       "<Figure size 432x288 with 1 Axes>"
      ]
     },
     "metadata": {
      "needs_background": "light"
     },
     "output_type": "display_data"
    }
   ],
   "source": [
    "purchases_by_category(94)"
   ]
  },
  {
   "cell_type": "code",
   "execution_count": 1375,
   "metadata": {},
   "outputs": [
    {
     "data": {
      "image/png": "[encoded data removed]",
      "text/plain": [
       "<Figure size 432x288 with 1 Axes>"
      ]
     },
     "metadata": {
      "needs_background": "light"
     },
     "output_type": "display_data"
    }
   ],
   "source": [
    "visits_by_merchant_name(94)"
   ]
  },
  {
   "cell_type": "code",
   "execution_count": 1415,
   "metadata": {},
   "outputs": [],
   "source": [
    "# determine_category_value_counts_and_ranges('purchase_amount')"
   ]
  },
  {
   "cell_type": "code",
   "execution_count": null,
   "metadata": {},
   "outputs": [],
   "source": []
  },
  {
   "cell_type": "markdown",
   "metadata": {},
   "source": [
    "### View the budget"
   ]
  },
  {
   "cell_type": "code",
   "execution_count": 1224,
   "metadata": {},
   "outputs": [],
   "source": [
    "# Plot Data\n",
    "def budget_image():\n",
    "    # visual_expense = pd.read_excel(\"bills_01.xlsx\")\n",
    "    # Change \"person 1\" and \"person 2\" to draw names from spreadsheet\n",
    "    # data = pd.DataFrame([visual_expense], index = [\"person 1\", \"person 2\"])\n",
    "    \n",
    "    features = list(data)\n",
    "    number_of_features = len(features)\n",
    "    \n",
    "    values_for_person_one = data.iloc[0].tolist()\n",
    "    values_for_person_one += values_for_person_one[:1]\n",
    "    \n",
    "    values_for_person_two = data.iloc[1].tolist()\n",
    "    values_for_person_two += values_for_person_two[:1]\n",
    "    \n",
    "    angles = [n / float(number_of_features) * 2 * pi for n in range(number_of_features)]\n",
    "    angles += angles[:1]\n",
    "    \n",
    "    ax = plt.subplot(111, polar = True)\n",
    "    \n",
    "    plt.xticks(angles[:-1], features)\n",
    "    \n",
    "    ax.plot(angles, values_for_person_one)\n",
    "    ax.plot(angles, values_for_person_two)\n",
    "    \n",
    "    ax.fill(angles, values_for_person_one, 'blue', alpha = 0.1)\n",
    "    axis.set_title(\"Person 1\")\n",
    "    plt.show()\n",
    "    \n",
    "    ax.fill(angles, values_for_person_two, 'red', alpha = 0.1)\n",
    "    axis.set_title(\"Person 2\")\n",
    "    plt.show()\n",
    "    \n",
    "    \n",
    "#    Pie chart\n",
    "#    labels = 'Rent', 'Water', 'Power', 'Retirement', 'Health Care', 'Car Insurance', 'Rent Insurance', 'PAY PERIOD'\n",
    "#    sizes = [rental, wat_bill, pow_bill, ret_ded, health_ded, car_ins, rent_ins, PAY_PERIOD()]\n",
    "#    explode = (0, 0, 0, 0, 0, 0, 0, 0.1)\n",
    "\n",
    "#    fig1, ax1 = plt.subplots()\n",
    "#    ax1.pie(sizes, explode = explode, labels = labels, autopct = '%1.2f%%',\n",
    "#            shadow = True, startangle = 90)\n",
    "#    ax1.axis('equal') # aspect ratio to make it a circle\n",
    "#    plt.show()"
   ]
  },
  {
   "cell_type": "markdown",
   "metadata": {},
   "source": [
    "##### Budget view function"
   ]
  },
  {
   "cell_type": "code",
   "execution_count": 1225,
   "metadata": {},
   "outputs": [],
   "source": [
    "def view_test_budget(person, data):    \n",
    "    \n",
    "    \n",
    "#   features = list(pd.DataFrame([pd.read_excel(\"bills_01.xlsx\")], index = [\"person 1\", \"person 2\"]))\n",
    "    features = [\"Rent\", \"Water\", \"Power\", \"Entertainment\", \"Health Care\", \"Insurance: Car\", \"Insurance: Housing\", \"Else\"]\n",
    "    features_of_interest = len(features)\n",
    "    \n",
    "    data += data [:1]\n",
    "    \n",
    "    angles = [n / (features_of_interest) * 2 * pi for n in range(features_of_interest)]\n",
    "    angles += angles [:1]\n",
    "    \n",
    "    ax = plt.subplot(111, polar=True)\n",
    "\n",
    "    plt.xticks(angles[:-1], features)\n",
    "    ax.plot(angles, data)\n",
    "    ax.fill(angles, data, 'red', alpha=0.1)\n",
    "\n",
    "    ax.set_title(person)\n",
    "    plt.show()\n",
    "    \n",
    "# features = list(pd.DataFrame([pd.read_excel(\"bills_01.xlsx\")], index = [\"person 1\", \"person 2\"]))\n",
    "# features = [\"Rent\", \"Water\", \"Power\", \"Entertainment\", \"Health Care\", \"Insurance: Car\", \"Insurance: Housing\", \"Else\"]\n",
    "# features_of_interest = len(features) + 1\n",
    "# print(features_of_interest)    "
   ]
  },
  {
   "cell_type": "code",
   "execution_count": 1226,
   "metadata": {},
   "outputs": [],
   "source": [
    "def view_personal_budget():\n",
    "    features = [\"Rent\", \"Water\", \"Power\", \"Entertainment\", \"Health Care\", \"Insurance: Car\", \"Insurance: Housing\", \"Else\"]\n",
    "    features_of_interest = len(features)\n",
    "    \n",
    "    data += data [:1]\n",
    "    \n",
    "    angles = [n / (features_of_interest) * 2 * pi for n in range(features_of_interest)]\n",
    "    angles += angles [:1]\n",
    "    \n",
    "    ax = plt.subplot(111, polar=True)\n",
    "\n",
    "    plt.xticks(angles[:-1], features)\n",
    "    ax.plot(angles, data)\n",
    "    ax.fill(angles, data, 'blue', alpha=0.1)\n",
    "\n",
    "    ax.set_title(person)\n",
    "    plt.show()"
   ]
  },
  {
   "cell_type": "code",
   "execution_count": 1228,
   "metadata": {},
   "outputs": [],
   "source": [
    "# view_test_budget(\"person 1 + 2\", [1250, 100, 100, 100, 300, 300, 300, 500])"
   ]
  },
  {
   "cell_type": "markdown",
   "metadata": {},
   "source": [
    "***"
   ]
  },
  {
   "cell_type": "markdown",
   "metadata": {},
   "source": [
    "Begin back propagation...or not since it's just a more complicated version of gradient descent"
   ]
  },
  {
   "cell_type": "code",
   "execution_count": 814,
   "metadata": {},
   "outputs": [],
   "source": [
    "sigma = lambda z : 1 / (1 + np.exp(-z))\n",
    "d_sigma = lambda z : np.cosh(z/2)**(-2) / 4\n",
    "\n",
    "#initialize network structure and clear past trainings\n",
    "def reset_network (n1 = 6, n2 = 7, random=np.random) :\n",
    "    global W1, W2, W3, b1, b2, b3\n",
    "    W1 = random.randn(n1, 1) / 2\n",
    "    W2 = random.randn(n2, n1) / 2\n",
    "    W3 = random.randn(2, n2) / 2\n",
    "    b1 = random.randn(n1, 1) / 2\n",
    "    b2 = random.randn(n2, 1) / 2\n",
    "    b3 = random.randn(2, 1) / 2\n",
    "\n",
    "#generate the network\n",
    "def network_function(a0):\n",
    "    z1 = W1 @ a0 + b1\n",
    "    a1 = sigma(z1)\n",
    "    z2 = W2 @ a1 + b2\n",
    "    a2 = sigma(z2)\n",
    "    z3 = W3 @ a2 + b3\n",
    "    a3 = sigma(z3)\n",
    "    return a0, z1, a1, z2, a2, z3, a3\n",
    "\n",
    "#Cost function\n",
    "def cost(x, y) :\n",
    "    return np.linalg.norm(network_function(x)[-1] - y)**2 / x.size\n",
    "\n",
    "#first node\n",
    "def J_W3 (x, y) :\n",
    "    a0, z1, a1, z2, a2, z3, a3 = network_function(x)\n",
    "    J = 2 * (a3 - y)\n",
    "    J = J * d_sigma(z3)\n",
    "    J = J @ a2.T / x.size\n",
    "    return J\n",
    "\n",
    "def J_b3 (x, y) :\n",
    "    a0, z1, a1, z2, a2, z3, a3 = network_function(x)\n",
    "    J = 2 * (a3 - y) \n",
    "    J = J * d_sigma(z3)\n",
    "    J = np.sum(J, axis=1, keepdims=True) / x.size\n",
    "    return J\n",
    "\n",
    "#second node\n",
    "def J_W2 (x, y) :\n",
    "    a0, z1, a1, z2, a2, z3, a3 = network_function(x)    \n",
    "    J = 2 * (a3 - y)\n",
    "    J = J * d_sigma(z3)\n",
    "    J = (J.T @ W3).T\n",
    "    J = J * d_sigma(z2)\n",
    "    J = J @ a1.T / x.size\n",
    "    return J\n",
    "\n",
    "def J_b2 (x, y) :\n",
    "    a0, z1, a1, z2, a2, z3, a3 = network_function(x)\n",
    "    J = 2 * (a3 - y)\n",
    "    J = J * d_sigma(z3)\n",
    "    J = (J.T @ W3).T\n",
    "    J = J * d_sigma(z2)\n",
    "    J = np.sum(J, axis=1, keepdims=True) / x.size\n",
    "    return J\n",
    "\n",
    "#third node\n",
    "def J_W1 (x, y) :\n",
    "    a0, z1, a1, z2, a2, z3, a3 = network_function(x)\n",
    "    J = 2 * (a3 - y)\n",
    "    J = J * d_sigma(z3)\n",
    "    J = (J.T @ W3).T\n",
    "    J = J * d_sigma(z2)\n",
    "    J = (J.T @ W2).T\n",
    "    J = J * d_sigma(z1)\n",
    "    J = J @ a0.T / x.size\n",
    "    return J\n",
    "\n",
    "def J_b1 (x, y) :\n",
    "    a0, z1, a1, z2, a2, z3, a3 = network_function(x)\n",
    "    J = 2 * (a3 - y)\n",
    "    J = J * d_sigma(z3)\n",
    "    J = (J.T @ W3).T\n",
    "    J = J * d_sigma(z2)\n",
    "    J = (J.T @ W2).T\n",
    "    J = J * d_sigma(z1)\n",
    "    J = np.sum(J, axis=1, keepdims=True) / x.size\n",
    "    return J"
   ]
  },
  {
   "cell_type": "markdown",
   "metadata": {},
   "source": [
    "Begin machine learning prediction MK II: SGD Classification"
   ]
  },
  {
   "cell_type": "code",
   "execution_count": 819,
   "metadata": {},
   "outputs": [],
   "source": [
    "from sklearn.linear_model import SGDClassifier\n",
    "\n",
    "# classifier = SGDClassifier(loss=\"L2\", penalty=\"none\", max_iter=10)\n",
    "#L2 norm not supported"
   ]
  },
  {
   "cell_type": "markdown",
   "metadata": {},
   "source": [
    "###### Begin prediction MK I: gradient descent"
   ]
  },
  {
   "cell_type": "markdown",
   "metadata": {},
   "source": [
    "Notes:\n",
    "    Python doesn't immediately intepret the full set of dimensions for a multidimensional array if one of the the dimentions is 1.\n",
    "     Culprit 1: So must cast as np.matrix to compensate.\n",
    "     Culprit 2: Not able to handle very large numbers. So we can import Decimal.\n",
    "     Culprit 3: Possibly using np.power() might bypass computational error\n",
    "     Culprit 4: np.square also induces computational error\n",
    "     Culprit 5: Cross products don't work since they will result in an orthogonal vector\n",
    "     Culprit 6: np.vectorize ????\n",
    "     Culprit 7: reduce(fxn, array)\n",
    "     Culprit 8: Fuck it. Run without any instances of np.matrix."
   ]
  },
  {
   "cell_type": "code",
   "execution_count": 820,
   "metadata": {},
   "outputs": [],
   "source": [
    "x = np.matrix('1, 2; 3, 4; 5, 0')\n",
    "squarer = lambda t: t ** 2\n",
    "#vfunc = np.vectorize(squarer)\n",
    "#vfunc(x)"
   ]
  },
  {
   "cell_type": "code",
   "execution_count": 821,
   "metadata": {},
   "outputs": [
    {
     "name": "stdout",
     "output_type": "stream",
     "text": [
      "[[0, 1, 4, 9], 13, 4]\n"
     ]
    }
   ],
   "source": [
    "from functools import reduce\n",
    "def my_reduce(x, y):\n",
    "    length=len(x[0])-1\n",
    "    newY = y**2\n",
    "    # print('x', \n",
    "    # x,\n",
    "    # 'beg len',\n",
    "    # len(x[0]),\n",
    "    # 'end len',\n",
    "    # x[0][len(x[0])-1]\n",
    "    # ,'y', y)\n",
    "\n",
    "\n",
    "    # 1) component wise squaring\n",
    "    x[0].append(newY)\n",
    "    # 2) dot product for each value.\n",
    "    x[1] = x[0][length]+newY\n",
    "    # 3) delta of component wise by dot product.\n",
    "    x[2] = (x[1] - x[0][length+1])\n",
    "\n",
    "    return x\n",
    "\n",
    "print(reduce(my_reduce, [1, 2, 3], [[0],0,0]))"
   ]
  },
  {
   "cell_type": "code",
   "execution_count": 824,
   "metadata": {},
   "outputs": [
    {
     "name": "stderr",
     "output_type": "stream",
     "text": [
      "/usr/local/conda3/lib/python3.7/site-packages/ipykernel_launcher.py:11: RuntimeWarning: overflow encountered in square\n",
      "  # This is added back by InteractiveShellApp.init_path()\n"
     ]
    }
   ],
   "source": [
    "from decimal import Decimal\n",
    "from functools import reduce\n",
    "\n",
    "# def squared(x):\n",
    "#     return x**2\n",
    "\n",
    "def gradientDescent(x, y, theta, alpha, N, iterations):\n",
    "    for iter in range(iterations):\n",
    "        x_transpose = x.transpose()\n",
    "        hypothesis = np.dot(x, theta)\n",
    "        squared_errors = (hypothesis - y) **2\n",
    "        cost = squared_errors / (2 * N)\n",
    "#        print(\"At iteration {}, the cost is {}\".format(iter, cost))\n",
    "\n",
    "        gradient = np.dot(x, squared_errors) / N\n",
    "        # update theta\n",
    "        theta = theta - alpha * gradient\n",
    "    return theta\n",
    "\n",
    "# print(type(i))\n",
    "# print(type(bills_01))\n",
    "\n",
    "# print((np.dot(i, theta) - bills_01).shape)\n",
    "# print((bills_01).shape)\n",
    "# print(np.matrix(i))\n",
    "\n",
    "\n",
    "N = j\n",
    "#temp_N = len(temp_i)\n",
    "# iterations = 10000\n",
    "# alpha = 0.005\n",
    "\n",
    "theta = np.ones(N)\n",
    "# temp_theta = np.ones(temp_N)\n",
    "theta = gradientDescent(i, bills_01, theta, alpha, j, iterations)\n",
    "\n",
    "# Determine the capacity for what can be done in the vein of gradient descent on cost here"
   ]
  },
  {
   "cell_type": "code",
   "execution_count": null,
   "metadata": {},
   "outputs": [],
   "source": []
  }
 ],
 "metadata": {
  "kernelspec": {
   "display_name": "Python 3",
   "language": "python",
   "name": "python3"
  },
  "language_info": {
   "codemirror_mode": {
    "name": "ipython",
    "version": 3
   },
   "file_extension": ".py",
   "mimetype": "text/x-python",
   "name": "python",
   "nbconvert_exporter": "python",
   "pygments_lexer": "ipython3",
   "version": "3.7.1"
  }
 },
 "nbformat": 4,
 "nbformat_minor": 2
}
