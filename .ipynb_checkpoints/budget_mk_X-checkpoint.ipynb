{
 "cells": [
  {
   "cell_type": "markdown",
   "metadata": {},
   "source": [
    "### Imports"
   ]
  },
  {
   "cell_type": "code",
   "execution_count": 1,
   "metadata": {},
   "outputs": [],
   "source": [
    "# ! pip install geocoder\n",
    "# ! pip install google\n",
    "# ! pip install python-google-places\n",
    "# ! pip install geolocation-python\n",
    "# ! pip install plotly\n",
    "# ! pip install cufflinks\n",
    "# ! pip install oauth2\n",
    "# ! pip install gspread\n",
    "# ! pip install oauth2client\n",
    "# ! pip install xgboost\n",
    "# ! pip install dj-database-url\n",
    "# ! pip install sklearn\n",
    "# ! pip install numpy\n",
    "# ! pip install scipy\n",
    "# ! pip install sklearn\n",
    "# ! pip install bs4\n",
    "# ! pip install matplotlib\n",
    "# ! pip install seaborn\n",
    "# ! pip install statsmodels\n",
    "# ! pip install tensorflow"
   ]
  },
  {
   "cell_type": "code",
   "execution_count": 2,
   "metadata": {},
   "outputs": [
    {
     "data": {
      "text/html": [
       "        <script type=\"text/javascript\">\n",
       "        window.PlotlyConfig = {MathJaxConfig: 'local'};\n",
       "        if (window.MathJax) {MathJax.Hub.Config({SVG: {font: \"STIX-Web\"}});}\n",
       "        if (typeof require !== 'undefined') {\n",
       "        require.undef(\"plotly\");\n",
       "        requirejs.config({\n",
       "            paths: {\n",
       "                'plotly': ['https://cdn.plot.ly/plotly-latest.min']\n",
       "            }\n",
       "        });\n",
       "        require(['plotly'], function(Plotly) {\n",
       "            window._Plotly = Plotly;\n",
       "        });\n",
       "        }\n",
       "        </script>\n",
       "        "
      ]
     },
     "metadata": {},
     "output_type": "display_data"
    },
    {
     "data": {
      "text/html": [
       "        <script type=\"text/javascript\">\n",
       "        window.PlotlyConfig = {MathJaxConfig: 'local'};\n",
       "        if (window.MathJax) {MathJax.Hub.Config({SVG: {font: \"STIX-Web\"}});}\n",
       "        if (typeof require !== 'undefined') {\n",
       "        require.undef(\"plotly\");\n",
       "        requirejs.config({\n",
       "            paths: {\n",
       "                'plotly': ['https://cdn.plot.ly/plotly-latest.min']\n",
       "            }\n",
       "        });\n",
       "        require(['plotly'], function(Plotly) {\n",
       "            window._Plotly = Plotly;\n",
       "        });\n",
       "        }\n",
       "        </script>\n",
       "        "
      ]
     },
     "metadata": {},
     "output_type": "display_data"
    },
    {
     "data": {
      "text/html": [
       "        <script type=\"text/javascript\">\n",
       "        window.PlotlyConfig = {MathJaxConfig: 'local'};\n",
       "        if (window.MathJax) {MathJax.Hub.Config({SVG: {font: \"STIX-Web\"}});}\n",
       "        if (typeof require !== 'undefined') {\n",
       "        require.undef(\"plotly\");\n",
       "        requirejs.config({\n",
       "            paths: {\n",
       "                'plotly': ['https://cdn.plot.ly/plotly-latest.min']\n",
       "            }\n",
       "        });\n",
       "        require(['plotly'], function(Plotly) {\n",
       "            window._Plotly = Plotly;\n",
       "        });\n",
       "        }\n",
       "        </script>\n",
       "        "
      ]
     },
     "metadata": {},
     "output_type": "display_data"
    },
    {
     "data": {
      "text/html": [
       "        <script type=\"text/javascript\">\n",
       "        window.PlotlyConfig = {MathJaxConfig: 'local'};\n",
       "        if (window.MathJax) {MathJax.Hub.Config({SVG: {font: \"STIX-Web\"}});}\n",
       "        if (typeof require !== 'undefined') {\n",
       "        require.undef(\"plotly\");\n",
       "        requirejs.config({\n",
       "            paths: {\n",
       "                'plotly': ['https://cdn.plot.ly/plotly-latest.min']\n",
       "            }\n",
       "        });\n",
       "        require(['plotly'], function(Plotly) {\n",
       "            window._Plotly = Plotly;\n",
       "        });\n",
       "        }\n",
       "        </script>\n",
       "        "
      ]
     },
     "metadata": {},
     "output_type": "display_data"
    }
   ],
   "source": [
    "import numpy as np\n",
    "import scipy\n",
    "import sklearn as sk\n",
    "import matplotlib.pyplot as plt\n",
    "import math\n",
    "from math import pi\n",
    "# from just_some_functions import *\n",
    "from statistics import *\n",
    "from scipy.stats import *\n",
    "import statsmodels.api as sm\n",
    "from decimal import Decimal\n",
    "import seaborn as sns\n",
    "\n",
    "from googlesearch import search\n",
    "\n",
    "import googleplaces\n",
    "from googleplaces import GooglePlaces, types, lang\n",
    "from geolocation.main import GoogleMaps\n",
    "\n",
    "import geocoder\n",
    "\n",
    "import plotly\n",
    "import plotly.plotly as py\n",
    "import plotly.figure_factory as ff\n",
    "import plotly.graph_objs as go\n",
    "from plotly.offline import iplot, init_notebook_mode\n",
    "from plotly.offline import download_plotlyjs, init_notebook_mode, plot, iplot\n",
    "import cufflinks as cf\n",
    "cf.set_config_file(offline=True)\n",
    "import cufflinks\n",
    "cufflinks.go_offline(connected=True)\n",
    "init_notebook_mode(connected=True)\n",
    "\n",
    "import gspread\n",
    "from gspread import *\n",
    "import pandas as pd\n",
    "\n",
    "from oauth2client.service_account import ServiceAccountCredentials\n",
    "\n",
    "import time\n",
    "from datetime import *\n",
    "\n",
    "import random\n",
    "\n",
    "# from io import StringIO\n",
    "# import requests\n"
   ]
  },
  {
   "cell_type": "code",
   "execution_count": 3,
   "metadata": {},
   "outputs": [],
   "source": [
    "from sklearn.preprocessing import MinMaxScaler\n",
    "from sklearn.preprocessing import LabelEncoder, OneHotEncoder\n",
    "\n",
    "from sklearn.model_selection import train_test_split\n",
    "from sklearn.model_selection import GridSearchCV\n",
    "from sklearn.model_selection import RandomizedSearchCV\n",
    "from sklearn.model_selection import ShuffleSplit\n",
    "from sklearn.model_selection import KFold\n",
    "from sklearn.model_selection import cross_val_score\n",
    "\n",
    "from sklearn import svm, tree, linear_model, neighbors\n",
    "from sklearn import naive_bayes, ensemble, discriminant_analysis, gaussian_process\n",
    "from sklearn.linear_model import LogisticRegression\n",
    "from sklearn.tree import DecisionTreeClassifier\n",
    "from sklearn.neighbors import KNeighborsClassifier\n",
    "from sklearn.discriminant_analysis import LinearDiscriminantAnalysis\n",
    "from sklearn.naive_bayes import GaussianNB\n",
    "from sklearn.svm import SVC\n",
    "from sklearn.neighbors import KNeighborsClassifier\n",
    "from xgboost import XGBClassifier \n",
    "from sklearn.ensemble import RandomForestClassifier\n",
    "\n",
    "from sklearn import feature_selection\n",
    "from sklearn import model_selection\n",
    "from sklearn import metrics\n",
    "\n",
    "from sklearn.metrics import confusion_matrix, classification_report, precision_recall_curve\n",
    "from sklearn.metrics import auc, roc_auc_score, roc_curve, recall_score, log_loss\n",
    "from sklearn.metrics import f1_score, accuracy_score, roc_auc_score, make_scorer\n",
    "from sklearn.metrics import average_precision_score\n",
    "\n",
    "import os\n",
    "import re\n",
    "import sys\n",
    "import timeit\n",
    "import string\n",
    "from datetime import datetime\n",
    "from time import time\n",
    "from dateutil.parser import parse"
   ]
  },
  {
   "cell_type": "markdown",
   "metadata": {},
   "source": [
    "Need to run the cell below for the initial load of the data"
   ]
  },
  {
   "cell_type": "code",
   "execution_count": 4,
   "metadata": {},
   "outputs": [],
   "source": [
    "# scope = ['https://spreadsheets.google.com/feeds', 'https://www.googleapis.com/auth/drive']\n",
    "\n",
    "# credentials = ServiceAccountCredentials.from_json_keyfile_name('json/dungeon runner-6a51b68a1239.json', scope)\n",
    "\n",
    "# gspread_credentials = gspread.authorize(credentials)\n",
    "\n",
    "# expense_related_worksheet = gspread_credentials.open_by_key('1tKPle0EOUtjTcFtqLqHXcM_iPxlf3MV4RYHfi59d8k0') \n",
    "\n",
    "# work_hours_related_worksheet = gspread_credentials.open_by_key('1RdACxeor-Y4NZlmiAU1eQopvcU_I2J54KOpc2AWYfU8')\n",
    "\n",
    "# expense_categories = expense_related_worksheet.sheet1\n",
    "\n",
    "# work_hours_categories = work_hours_related_worksheet.sheet1\n",
    "\n",
    "# api_key_data_frame_source = pd.DataFrame(keys.get_all_records())\n",
    "\n",
    "# api_key_data_frame = api_key_data_frame_source.copy()\n",
    "    "
   ]
  },
  {
   "cell_type": "code",
   "execution_count": 5,
   "metadata": {
    "scrolled": false
   },
   "outputs": [],
   "source": [
    "scope = ['https://spreadsheets.google.com/feeds', 'https://www.googleapis.com/auth/drive']\n",
    "\n",
    "pi_credentials = ServiceAccountCredentials.from_json_keyfile_name('json/the-intelligent-budget-237104-3b5849d1aed7.json', scope)\n",
    "\n",
    "sojourner_credentials = gspread.authorize(pi_credentials)\n",
    "\n",
    "expense_related_worksheet = sojourner_credentials.open_by_key('1tKPle0EOUtjTcFtqLqHXcM_iPxlf3MV4RYHfi59d8k0')\n",
    "\n",
    "work_hours_related_worksheet = sojourner_credentials.open_by_key('1RdACxeor-Y4NZlmiAU1eQopvcU_I2J54KOpc2AWYfU8')\n",
    "\n",
    "key = ['https://spreadsheets.google.com/feeds', 'https://www.googleapis.com/auth/drive']\n",
    "api_keys = ServiceAccountCredentials.from_json_keyfile_name('json/the-intelligent-budget-237104-3b5849d1aed7.json', key)\n",
    "api_credentials = gspread.authorize(api_keys)\n",
    "key_relations = api_credentials.open_by_key('1VuylGh-QIee1dHsWnaDoq_mVMmEtP76KZbV59qe3PCE')\n",
    "\n"
   ]
  },
  {
   "cell_type": "code",
   "execution_count": 6,
   "metadata": {},
   "outputs": [],
   "source": [
    "expense_categories = expense_related_worksheet.sheet1\n",
    "\n",
    "work_hours_categories = work_hours_related_worksheet.sheet1\n",
    "\n",
    "keys = key_relations.sheet1\n",
    "\n",
    "api_key_data_frame_source = pd.DataFrame(keys.get_all_records())\n",
    "\n",
    "api_key_data_frame = api_key_data_frame_source.copy()\n",
    "    "
   ]
  },
  {
   "cell_type": "code",
   "execution_count": null,
   "metadata": {},
   "outputs": [],
   "source": []
  },
  {
   "cell_type": "code",
   "execution_count": 7,
   "metadata": {},
   "outputs": [],
   "source": [
    "#Place the related line below in all functions relating to retrieving data from the worksheets\n",
    "#Commented here so they do not load twice every time I run this cell.\n",
    "\n",
    "# expense_categories_data_frame = pd.DataFrame(expense_categories.get_all_records())\n",
    "# work_hours_categories_data_frame = pd.DataFrame(work_hours_categories.get_all_records())\n",
    "\n",
    "# line = requests.get(\"https://docs.google.com/spreadsheets/d/1GYQAl8UUgqTWFTPOzdc1ytrL5TrIoI67Yr4ThFAf_Fk/edit?usp=sharing\")\n",
    "# expense_data_set = line.content \n",
    "# expense_data_frame = pd.read_excel(StringIO(expense_data_set), index_col=1, parse_dates=['purchase_date'])\n"
   ]
  },
  {
   "cell_type": "code",
   "execution_count": null,
   "metadata": {},
   "outputs": [],
   "source": []
  },
  {
   "cell_type": "code",
   "execution_count": null,
   "metadata": {},
   "outputs": [],
   "source": []
  },
  {
   "cell_type": "code",
   "execution_count": null,
   "metadata": {},
   "outputs": [],
   "source": []
  },
  {
   "cell_type": "code",
   "execution_count": 8,
   "metadata": {},
   "outputs": [],
   "source": [
    "def perform_google_search(s):\n",
    "    #search_results = search(query=s)\n",
    "    for search_result in search(s, tld=\"com\", num=10, stop=5, pause=2): \n",
    "        print(search_result) "
   ]
  },
  {
   "cell_type": "code",
   "execution_count": null,
   "metadata": {},
   "outputs": [],
   "source": []
  },
  {
   "cell_type": "code",
   "execution_count": 9,
   "metadata": {},
   "outputs": [],
   "source": [
    "def get_and_load_api_keys():\n",
    "    google_places = GooglePlaces(\"api_key_data_frame['GooglePlaces'][1]\")\n",
    "    google_maps = GoogleMaps(\"api_key_data_frame['GooglePlaces'][1]\")\n",
    "    \n",
    "    # mapquest_maps = api_key_data_frame['Mapquest'][0]\n",
    "    \n",
    "    return google_places, google_maps,\n"
   ]
  },
  {
   "cell_type": "code",
   "execution_count": 10,
   "metadata": {},
   "outputs": [
    {
     "data": {
      "text/plain": [
       "(<googleplaces.GooglePlaces at 0x7f26671c3358>,\n",
       " <geolocation.main.GoogleMaps at 0x7f26671c3128>)"
      ]
     },
     "execution_count": 10,
     "metadata": {},
     "output_type": "execute_result"
    }
   ],
   "source": [
    "get_and_load_api_keys()"
   ]
  },
  {
   "cell_type": "code",
   "execution_count": 11,
   "metadata": {},
   "outputs": [],
   "source": [
    "# current_location = [51.4671631, 0.1174969]\n",
    "# NEED a get_current_location():\n",
    "def get_current_location():\n",
    "    current_location = geocoder.ip('me')\n",
    "    latitude = current_location.latlng[0]\n",
    "    longitude = current_location.latlng[1]\n",
    "    return latitude, longitude\n",
    "\n",
    "\n",
    "#Need to pass current location to dictionary\n",
    "# google_places.nearby_search(location=current_location)\n",
    "\n"
   ]
  },
  {
   "cell_type": "code",
   "execution_count": 12,
   "metadata": {},
   "outputs": [],
   "source": [
    "# address = \"New York City Wall Street 12\"\n",
    "\n",
    "# location = google_maps.search(location=address) # sends search to Google Maps.\n",
    "\n",
    "# print(location.all()) # returns all locations.\n"
   ]
  },
  {
   "cell_type": "code",
   "execution_count": 13,
   "metadata": {},
   "outputs": [],
   "source": [
    "# google_places = GooglePlaces(\"api_key_data_frame['GooglePlaces'][0]\")"
   ]
  },
  {
   "cell_type": "code",
   "execution_count": 14,
   "metadata": {},
   "outputs": [],
   "source": [
    "expense_categories_data_frame_source = pd.DataFrame(expense_categories.get_all_records())\n",
    "expense_categories_data_frame = expense_categories_data_frame_source.copy()\n"
   ]
  },
  {
   "cell_type": "code",
   "execution_count": 15,
   "metadata": {
    "scrolled": true
   },
   "outputs": [],
   "source": [
    "work_hours_categories_data_frame_source = pd.DataFrame(work_hours_categories.get_all_records())\n",
    "work_hours_categories_data_frame = work_hours_categories_data_frame_source.copy()\n"
   ]
  },
  {
   "cell_type": "code",
   "execution_count": 16,
   "metadata": {},
   "outputs": [],
   "source": [
    "def check_data_frame_data_type():\n",
    "    print('Expense Categories: \\n')\n",
    "    print(expense_categories_data_frame.columns.to_series().groupby(expense_categories_data_frame.dtypes).groups)\n",
    "    print('Work Caregories: \\n')\n",
    "    print(work_hours_categories_data_frame.columns.to_series().groupby(work_hours_categories_data_frame.dtypes).groups)"
   ]
  },
  {
   "cell_type": "code",
   "execution_count": 17,
   "metadata": {
    "scrolled": true
   },
   "outputs": [],
   "source": [
    "# check_data_frame_data_type()"
   ]
  },
  {
   "cell_type": "markdown",
   "metadata": {},
   "source": [
    "Each time must run the \"get all records\" function to pull new information."
   ]
  },
  {
   "cell_type": "code",
   "execution_count": 18,
   "metadata": {},
   "outputs": [],
   "source": [
    "def load_expense_data():\n",
    "    expense_categories_data_frame_source = pd.DataFrame(expense_categories.get_all_records())\n",
    "    expense_categories_data_frame = expense_categories_data_frame_source.copy()\n",
    "    expense_categories_data_frame.columns\n",
    "    return expense_categories_data_frame.head()\n",
    "\n",
    "def check_expense_data_for_null():\n",
    "    expense_categories_data_frame_source = pd.DataFrame(expense_categories.get_all_records())\n",
    "    expense_categories_data_frame = expense_categories_data_frame_source.copy()\n",
    "    expense_categories_data_frame.columns\n",
    "    return expense_categories_data_frame.info()\n",
    "\n",
    "def load_work_hours_data():\n",
    "    work_hours_categories_data_frame_source = pd.DataFrame(work_hours_categories.get_all_records())\n",
    "    work_hours_categories_data_frame = work_hours_categories_data_frame_source.copy()\n",
    "    work_hours_categories_data_frame.columns\n",
    "    return work_hours_categories_data_frame.head()\n",
    "\n",
    "def check_work_hours_data_for_null():\n",
    "    work_hours_categories_data_frame_source = pd.DataFrame(work_hours_categories.get_all_records())\n",
    "    work_hours_categories_data_frame = work_hours_categories_data_frame_source.copy()\n",
    "    work_hours_categories_data_frame.columns\n",
    "    return work_hours_categories_data_frame.info()"
   ]
  },
  {
   "cell_type": "code",
   "execution_count": 19,
   "metadata": {},
   "outputs": [],
   "source": [
    "def load_all_data():\n",
    "    return load_expense_data(), load_work_hours_data(), get_and_load_api_keys()    \n",
    "    "
   ]
  },
  {
   "cell_type": "code",
   "execution_count": 20,
   "metadata": {},
   "outputs": [
    {
     "data": {
      "text/plain": [
       "(    distance_from_home_in_miles distance_from_home_vector merchant_category  \\\n",
       " 0                             5                  0.059591       Supermarket   \n",
       " 1                             3                 0.0349393      Liquor Store   \n",
       " 2                                                              Record Store   \n",
       " 3                                                           Online Retailer   \n",
       " 4                                                           Online Retailer   \n",
       " \n",
       "   merchant_with_highest_amount  purchase_amount purchase_category  \\\n",
       " 0                       Publix             10.0              Food   \n",
       " 1                       Publix              0.0          Beverage   \n",
       " 2                          FYE              0.0     Entertainment   \n",
       " 3                       Amazon              0.0     Entertainment   \n",
       " 4                       Amazon              0.0     Entertainment   \n",
       " \n",
       "   purchase_date recurring repurchase  \n",
       " 0    31/12/2018     FALSE       TRUE  \n",
       " 1    01/01/2019     FALSE      FALSE  \n",
       " 2    02/01/2019     FALSE      FALSE  \n",
       " 3    03/01/2019     FALSE      FALSE  \n",
       " 4    04/01/2019     FALSE      FALSE  ,\n",
       "    actual_gross_annual_salary  actual_gross_weekly_salary  \\\n",
       " 0                     43513.6                       836.8   \n",
       " 1                     43513.6                       836.8   \n",
       " 2                     43513.6                       836.8   \n",
       " 3                     43513.6                       836.8   \n",
       " 4                     43513.6                       836.8   \n",
       " \n",
       "    actual_net_annual_salary  approx_taxes_due  hourly_rate hours_worked_daily  \\\n",
       " 0                  38363.97           5149.63        20.92               5.71   \n",
       " 1                  38291.97           5221.63        20.92               5.71   \n",
       " 2                  38291.97           5221.63        20.92               5.71   \n",
       " 3                  38291.97           5221.63        20.92               5.71   \n",
       " 4                  38291.97           5221.63        20.92               5.71   \n",
       " \n",
       "    hours_worked_weekly is_hourly_worker is_salary_worker  pre_tax_deductiions  \\\n",
       " 0                 40.0             TRUE            FALSE                600.0   \n",
       " 1                 40.0             TRUE            FALSE                  0.0   \n",
       " 2                 40.0             TRUE            FALSE                  0.0   \n",
       " 3                 40.0             TRUE            FALSE                  0.0   \n",
       " 4                 40.0             TRUE            FALSE                  0.0   \n",
       " \n",
       "    projected_gross_annual_salary  projected_net_annual_salary time     week_of  \n",
       " 0                        43513.6                     38363.97  day  25/02/2019  \n",
       " 1                        43513.6                     38291.97  day  04/03/2019  \n",
       " 2                        43513.6                     38291.97  day  11/03/2019  \n",
       " 3                        43513.6                     38291.97  day  18/03/2019  \n",
       " 4                        43513.6                     38291.97  day  25/03/2019  ,\n",
       " (<googleplaces.GooglePlaces at 0x7f26671a7550>,\n",
       "  <geolocation.main.GoogleMaps at 0x7f26671a72b0>))"
      ]
     },
     "execution_count": 20,
     "metadata": {},
     "output_type": "execute_result"
    }
   ],
   "source": [
    "load_all_data()"
   ]
  },
  {
   "cell_type": "code",
   "execution_count": 21,
   "metadata": {},
   "outputs": [],
   "source": [
    "# load_expense_data()"
   ]
  },
  {
   "cell_type": "code",
   "execution_count": 22,
   "metadata": {},
   "outputs": [],
   "source": [
    "# check_expense_data()"
   ]
  },
  {
   "cell_type": "code",
   "execution_count": 23,
   "metadata": {},
   "outputs": [],
   "source": [
    "# load_work_hours_data()"
   ]
  },
  {
   "cell_type": "code",
   "execution_count": 24,
   "metadata": {},
   "outputs": [],
   "source": [
    "# check_work_hours_data()"
   ]
  },
  {
   "cell_type": "markdown",
   "metadata": {},
   "source": [
    "Start \"don't need\""
   ]
  },
  {
   "cell_type": "code",
   "execution_count": 25,
   "metadata": {},
   "outputs": [],
   "source": [
    "#avg_work_hrs_yr = 40 * 52\n",
    "#print(avg_work_hrs_yr)"
   ]
  },
  {
   "cell_type": "code",
   "execution_count": 26,
   "metadata": {},
   "outputs": [],
   "source": [
    "# hours = pd.readcsv('work_hours.csv')\n",
    "# hr_per_week = pd.readcsv('work_week.csv')\n",
    "\n",
    "# set hourly rate\n",
    "# rates = pd.readcsv('hourly_rate.csv')\n",
    "\n",
    "# deduction = pd.readcsv('deductions.csv')\n",
    "\n",
    "# hours = np.loadtxt(\"work_hours.txt\")\n",
    "# hours_per_week = np.loadtxt(\"work_week.txt\")\n",
    "# hourly_rates = np.loadtxt(\"hourly_rate.txt\")\n",
    "# pre_tax_deduction = np.loadtxt(\"pre_tax_deductions.txt\")\n",
    "# salary = np.loadtxt(\"annual_salary.txt\")"
   ]
  },
  {
   "cell_type": "code",
   "execution_count": 27,
   "metadata": {},
   "outputs": [],
   "source": [
    "#hours_worked_so_far = []\n",
    "#def weeks_worked(): \n",
    "#    for i in hours:\n",
    "#        if i != 0:\n",
    "#            hours_worked_so_far.append(i)\n",
    "#    return len(hours_worked_so_far)\n",
    "\n",
    "#print(weeks_worked())"
   ]
  },
  {
   "cell_type": "code",
   "execution_count": 28,
   "metadata": {},
   "outputs": [
    {
     "data": {
      "text/plain": [
       "(    distance_from_home_in_miles distance_from_home_vector merchant_category  \\\n",
       " 0                             5                  0.059591       Supermarket   \n",
       " 1                             3                 0.0349393      Liquor Store   \n",
       " 2                                                              Record Store   \n",
       " 3                                                           Online Retailer   \n",
       " 4                                                           Online Retailer   \n",
       " \n",
       "   merchant_with_highest_amount  purchase_amount purchase_category  \\\n",
       " 0                       Publix             10.0              Food   \n",
       " 1                       Publix              0.0          Beverage   \n",
       " 2                          FYE              0.0     Entertainment   \n",
       " 3                       Amazon              0.0     Entertainment   \n",
       " 4                       Amazon              0.0     Entertainment   \n",
       " \n",
       "   purchase_date recurring repurchase  \n",
       " 0    31/12/2018     FALSE       TRUE  \n",
       " 1    01/01/2019     FALSE      FALSE  \n",
       " 2    02/01/2019     FALSE      FALSE  \n",
       " 3    03/01/2019     FALSE      FALSE  \n",
       " 4    04/01/2019     FALSE      FALSE  ,\n",
       "    actual_gross_annual_salary  actual_gross_weekly_salary  \\\n",
       " 0                     43513.6                       836.8   \n",
       " 1                     43513.6                       836.8   \n",
       " 2                     43513.6                       836.8   \n",
       " 3                     43513.6                       836.8   \n",
       " 4                     43513.6                       836.8   \n",
       " \n",
       "    actual_net_annual_salary  approx_taxes_due  hourly_rate hours_worked_daily  \\\n",
       " 0                  38363.97           5149.63        20.92               5.71   \n",
       " 1                  38291.97           5221.63        20.92               5.71   \n",
       " 2                  38291.97           5221.63        20.92               5.71   \n",
       " 3                  38291.97           5221.63        20.92               5.71   \n",
       " 4                  38291.97           5221.63        20.92               5.71   \n",
       " \n",
       "    hours_worked_weekly is_hourly_worker is_salary_worker  pre_tax_deductiions  \\\n",
       " 0                 40.0             TRUE            FALSE                600.0   \n",
       " 1                 40.0             TRUE            FALSE                  0.0   \n",
       " 2                 40.0             TRUE            FALSE                  0.0   \n",
       " 3                 40.0             TRUE            FALSE                  0.0   \n",
       " 4                 40.0             TRUE            FALSE                  0.0   \n",
       " \n",
       "    projected_gross_annual_salary  projected_net_annual_salary time     week_of  \n",
       " 0                        43513.6                     38363.97  day  25/02/2019  \n",
       " 1                        43513.6                     38291.97  day  04/03/2019  \n",
       " 2                        43513.6                     38291.97  day  11/03/2019  \n",
       " 3                        43513.6                     38291.97  day  18/03/2019  \n",
       " 4                        43513.6                     38291.97  day  25/03/2019  ,\n",
       " (<googleplaces.GooglePlaces at 0x7f266716c3c8>,\n",
       "  <geolocation.main.GoogleMaps at 0x7f266716c128>))"
      ]
     },
     "execution_count": 28,
     "metadata": {},
     "output_type": "execute_result"
    }
   ],
   "source": [
    "load_all_data() "
   ]
  },
  {
   "cell_type": "code",
   "execution_count": 29,
   "metadata": {},
   "outputs": [],
   "source": [
    "#expense_categories_data_frame.head()\n"
   ]
  },
  {
   "cell_type": "markdown",
   "metadata": {},
   "source": [
    "End \"don't need\""
   ]
  },
  {
   "cell_type": "markdown",
   "metadata": {},
   "source": [
    "### Deductions"
   ]
  },
  {
   "cell_type": "markdown",
   "metadata": {},
   "source": [
    "##### Need to make updatable via outside txt file: DONE"
   ]
  },
  {
   "cell_type": "markdown",
   "metadata": {},
   "source": [
    "Start \"don't need\""
   ]
  },
  {
   "cell_type": "code",
   "execution_count": 30,
   "metadata": {},
   "outputs": [],
   "source": [
    "#def marital_status(string):\n",
    "#    pass"
   ]
  },
  {
   "cell_type": "code",
   "execution_count": 31,
   "metadata": {},
   "outputs": [],
   "source": [
    "#def deductions_from_taxable_income():\n",
    "#    for item in pre_tax_deductions:\n",
    "#        pass #increases the total amount to be deducted by the new item."
   ]
  },
  {
   "cell_type": "code",
   "execution_count": 32,
   "metadata": {},
   "outputs": [],
   "source": [
    "# tax_brackets = pd.read_excel(\"tax_brackets.xlsx\")\n",
    "# Use the above to update the bracket estimation\n",
    "\n",
    "#def tax_bracket_estimation(total_gross_income):\n",
    "#    if 0.00 < total_gross_income <= 9700:\n",
    "#        tax_bracket = (total_gross_income - deductions()) * 0.10\n",
    "#        tax_bracket = round(tax_bracket, 2)\n",
    "#        return tax_bracket\n",
    "#    elif 9700 < total_gross_income <= 39475:\n",
    "#        tax_bracket = (total_gross_income - marital_status() - deductions()) * 0.12\n",
    "#        tax_bracket = round(tax_bracket, 2)\n",
    "#        return tax_bracket\n",
    "#    elif 39475 < total_gross_income <= 84200:\n",
    "#        tax_bracket = (total_gross_income - marital_status() - deductions()) * 0.22\n",
    "#        tax_bracket = round(tax_bracket, 2)\n",
    "#        return tax_bracket\n",
    "#    elif 84200 < total_gross_income <= 160725:\n",
    "#        tax_bracket = (total_gross_income - marital_status() - deductions()) * 0.24\n",
    "#        tax_bracket = round(tax_bracket, 2)\n",
    "#        return tax_bracket\n",
    "#    elif 160725 < total_gross_income < 204100:\n",
    "#        tax_bracket = (total_gross_income - marital_status() - deductions()) * 0.32\n",
    "#        tax_bracket = round(tax_bracket, 2)\n",
    "#        return tax_bracket\n",
    "#    elif 204100 < total_gross_income < 510300:\n",
    "#        tax_bracket = (total_gross_income - marital_status() - deductions()) * 0.35\n",
    "#        tax_bracket = round(tax_bracket, 2)\n",
    "#        return tax_bracket\n",
    "#    else:\n",
    "#        tax_bracket = (total_gross_income - marital_status() - deductions()) * 0.37\n",
    "#        tax_bracket = round(tax_bracket, 2)\n",
    "#        return tax_bracket"
   ]
  },
  {
   "cell_type": "markdown",
   "metadata": {},
   "source": [
    "End \"don't need\""
   ]
  },
  {
   "cell_type": "markdown",
   "metadata": {},
   "source": [
    "### Compute gross income"
   ]
  },
  {
   "cell_type": "markdown",
   "metadata": {},
   "source": [
    "Start \"don't need\""
   ]
  },
  {
   "cell_type": "markdown",
   "metadata": {},
   "source": [
    "###### temporary test values"
   ]
  },
  {
   "cell_type": "code",
   "execution_count": 33,
   "metadata": {},
   "outputs": [],
   "source": [
    "#hours = 40\n",
    "#hourly_rates = 20.92\n",
    "#pre_tax_deductions = 300\n",
    "\n",
    "#monthly_wage = sum(hours) * hourly_rates\n",
    "#Bug in weeks_worked() that causes it to keep counting\n",
    "\n",
    "#print(sum(hours))\n",
    "#print(hourly_rates)\n",
    "#print(monthly_wage)"
   ]
  },
  {
   "cell_type": "markdown",
   "metadata": {},
   "source": [
    "###### end temporary test values"
   ]
  },
  {
   "cell_type": "code",
   "execution_count": 34,
   "metadata": {},
   "outputs": [],
   "source": [
    "#def total_gross_income():\n",
    "#    total_gross_income = np.sum(wage) - 40 * hourly_rates\n",
    "#    return total_gross_income\n",
    "\n",
    "#print(wage)\n",
    "#print(total_gross_income())"
   ]
  },
  {
   "cell_type": "markdown",
   "metadata": {},
   "source": [
    "End \"don't need\""
   ]
  },
  {
   "cell_type": "markdown",
   "metadata": {},
   "source": [
    "##### Pay Period Cycling"
   ]
  },
  {
   "cell_type": "code",
   "execution_count": 35,
   "metadata": {},
   "outputs": [],
   "source": [
    "def awaiting_next_pay_period(pay_schedule):\n",
    "    # sleep(seconds per minute * minutes per hour * hours per day * days per week * weeks per period)\n",
    "    if pay_schedule == 1:\n",
    "        time.sleep(60*60*24*7*1)\n",
    "        wage.append(hours*rates)\n",
    "        \n",
    "    elif pay_schedule == 2:\n",
    "        time.sleep(60*60*24*7*2)\n",
    "        wage.append(hours*rates)\n",
    "    \n",
    "    elif pay_schedule == 3:\n",
    "        time.sleep(60*60*24*7*3)\n",
    "        wage.append(hours*rates)\n",
    "    \n",
    "    elif pay_schedule == 4:\n",
    "        time.sleep(60*60*24*7*4)\n",
    "        wage.append(hours*rates)\n",
    "        \n",
    "#TODO update for a \"twice per month\" setting to include those who would be paid on two fixed calendar dates"
   ]
  },
  {
   "cell_type": "markdown",
   "metadata": {},
   "source": [
    "### Projected Annual Income"
   ]
  },
  {
   "cell_type": "markdown",
   "metadata": {},
   "source": [
    "Start \"don't need\""
   ]
  },
  {
   "cell_type": "code",
   "execution_count": 36,
   "metadata": {},
   "outputs": [],
   "source": [
    "#tax_bracket = 0.22"
   ]
  },
  {
   "cell_type": "code",
   "execution_count": 37,
   "metadata": {},
   "outputs": [],
   "source": [
    "#projected_annual_income = (avg_work_hrs_yr * hourly_rates) - tax_bracket * (avg_work_hrs_yr * hourly_rates) \n",
    "\n",
    "# projected_annual_income = projected_annual_income - tax_deduction * projected_annual_income\n",
    "#print(projected_annual_income)"
   ]
  },
  {
   "cell_type": "markdown",
   "metadata": {},
   "source": [
    "End \"don't need\""
   ]
  },
  {
   "cell_type": "markdown",
   "metadata": {},
   "source": [
    "### Compute net income"
   ]
  },
  {
   "cell_type": "code",
   "execution_count": 38,
   "metadata": {},
   "outputs": [],
   "source": [
    "# net_income_01 = total_gross_income() - tax_bracket * total_gross_income()\n",
    "# print(net_income_01)\n",
    "\n",
    "actual_net_salary = work_hours_categories_data_frame['actual_net_annual_salary'].apply(pd.to_numeric)\n",
    "#actual_net_salary"
   ]
  },
  {
   "cell_type": "markdown",
   "metadata": {},
   "source": [
    "### Compute expenses"
   ]
  },
  {
   "cell_type": "code",
   "execution_count": 39,
   "metadata": {},
   "outputs": [],
   "source": [
    "# bills_01 = pd.read_excel('bills01.xlsx')\n",
    "\n",
    "#bills_01 = np.matrix(np.loadtxt('bills_1.txt'))\n",
    "# bills_01 = np.loadtxt('bills_1.txt')\n",
    "\n",
    "# expenses_01 = np.sum(bills_01)\n",
    "\n",
    "#print(expenses_01)\n",
    "#print(bills_01.shape)\n",
    "\n",
    "purchase_amounts = expense_categories_data_frame['purchase_amount'].apply(pd.to_numeric, errors='coerce').fillna(0)\n",
    "# purchase_amounts"
   ]
  },
  {
   "cell_type": "markdown",
   "metadata": {},
   "source": [
    "### Compute remaining income"
   ]
  },
  {
   "cell_type": "code",
   "execution_count": 40,
   "metadata": {},
   "outputs": [],
   "source": [
    "# remaining_income = net_income_01 - expenses_01\n",
    "\n",
    "# Need to convert string to number\n",
    "\n",
    "def remaining_income():\n",
    "    for i in purchase_amounts:\n",
    "        remaining_income = actual_net_salary - purchase_amounts\n",
    "        return remaining_income\n",
    "\n",
    "#remaining_income\n",
    "# remaining_income()"
   ]
  },
  {
   "cell_type": "code",
   "execution_count": 41,
   "metadata": {},
   "outputs": [],
   "source": [
    "    \n",
    "# remaining_annual_income = projected_annual_income - remaining_income\n",
    "#print(remaining_annual_income)\n"
   ]
  },
  {
   "cell_type": "markdown",
   "metadata": {},
   "source": [
    "### Linear regression plot"
   ]
  },
  {
   "cell_type": "code",
   "execution_count": 42,
   "metadata": {},
   "outputs": [],
   "source": [
    "#j = np.array(bills_01).shape[0]\n",
    "#i = np.arange(j)\n",
    "#m = np.sum((i - np.sum(i)/len(i)) * bills_01) / np.sum((i - np.sum(i)/len(i)) ** 2)\n",
    "#c = np.sum(bills_01)/len(bills_01) #- m * np.sum(i)/len(i)\n",
    "\n",
    "#print(j)\n",
    "#print(i)\n",
    "#print(bills_01.shape)\n",
    "#print(c)"
   ]
  },
  {
   "cell_type": "code",
   "execution_count": 43,
   "metadata": {},
   "outputs": [],
   "source": [
    "\n",
    "# Average spending per data point in bills\n",
    "# TODO convert to average spending per day\n",
    "# average_spent_per_day = np.sum(bills_01)/len(bills_01)\n",
    "# print(\"The average spent per day was: \", average_spent_per_day)\n",
    "\n",
    "# General disparity\n",
    "# despair_ity = (projected_annual_income - remaining_income) / projected_annual_income\n",
    "# print(\"With disparity: \", despair_ity)"
   ]
  },
  {
   "cell_type": "markdown",
   "metadata": {},
   "source": [
    "Start temp/test data"
   ]
  },
  {
   "cell_type": "code",
   "execution_count": 44,
   "metadata": {},
   "outputs": [],
   "source": [
    "import random\n",
    "\n",
    "def temp_data(number_of_points, bias, variance):\n",
    "    x = np.zeros(shape=(number_of_points, 2))\n",
    "    y = np.zeros(shape=number_of_points)\n",
    "    # basically a straight line\n",
    "    for i in range(0, number_of_points):\n",
    "        # bias feature\n",
    "        x[i][0] = 1\n",
    "        x[i][1] = i\n",
    "        # our target variable\n",
    "        y[i] = (i + bias) + random.uniform(0, 1) * variance\n",
    "    return x, y\n",
    "\n",
    "temp_i, temp_bills = temp_data(100, 5, 100)\n"
   ]
  },
  {
   "cell_type": "markdown",
   "metadata": {},
   "source": [
    "End temp/test data"
   ]
  },
  {
   "cell_type": "code",
   "execution_count": 45,
   "metadata": {},
   "outputs": [],
   "source": [
    "def regression_plot(x, y):\n",
    "    plt.plot(x, y.T, 'rx')\n",
    "    plt.plot(x, y.T)\n",
    "    \n",
    "    i = range(0, len(expense_categories_data_frame['purchase_amount'])-expense_categories_data_frame['purchase_amount'].value_counts()[0]+1)\n",
    "\n",
    "    m, c = np.polyfit(x, y.T, 1)\n",
    "\n",
    "    #fitting function needs a 1d polynomial\n",
    "    #fitting_function = np.poly1d((np.polyfit(i, bills_01.T, 1)))\n",
    "\n",
    "    plt.plot(m*i + c)\n",
    "\n",
    "    #plt.plot(i, bills_01, 'yo', i, fitting_function(i), '--k')\n",
    "    #plt.xlim(0, 5)\n",
    "    #plt.ylim(0, 12)\n",
    "\n",
    "    #Plotting some test data since the current txt files are empty\n",
    "    #temp_i = temp_i\n",
    "    #temp_m = np.sum(np.matrix(temp_i - np.average(temp_i)).T * np.matrix(temp_bills).T) / np.sum((temp_i - np.average(temp_i)) ** 2)\n",
    "    #temp_c = np.average(temp_bills) - temp_m * np.average(temp_i)\n",
    "\n",
    "    #plt.plot(temp_i, temp_bills)\n",
    "    #plt.plot(temp_m*temp_i + temp_c)\n",
    "    \n",
    "    plt.savefig('regression.png')\n",
    "\n",
    "    plt.xlabel('purchase number')\n",
    "    plt.ylabel('amount spent per day')\n",
    "    plt.show()\n"
   ]
  },
  {
   "cell_type": "code",
   "execution_count": 46,
   "metadata": {},
   "outputs": [],
   "source": [
    "# def purchase_regression(x):\n",
    "#     #In days or number of data points\n",
    "#     regression_plot(range(0, x+1), purchase_amounts[0:x+1])\n",
    "\n",
    "#The function below should update with each additional input for purchases.\n",
    "#Provided that the new data is pulled from the spreadsheet\n"
   ]
  },
  {
   "cell_type": "code",
   "execution_count": null,
   "metadata": {},
   "outputs": [],
   "source": []
  },
  {
   "cell_type": "code",
   "execution_count": 47,
   "metadata": {},
   "outputs": [],
   "source": [
    "def purchase_analysis():\n",
    "    #In days or number of data points\n",
    "    regression_plot(range(0, len(expense_categories_data_frame['purchase_amount'])-expense_categories_data_frame['purchase_amount'].value_counts()[0]+1),\n",
    "                    purchase_amounts[0:len(expense_categories_data_frame['purchase_amount'])-expense_categories_data_frame['purchase_amount'].value_counts()[0]+1])\n",
    "    \n",
    "    "
   ]
  },
  {
   "cell_type": "code",
   "execution_count": 48,
   "metadata": {},
   "outputs": [],
   "source": [
    "# def analytics_text(data):\n",
    "#     print(\"With mean: \", mean(data), \" and standard deviation: \", stdev(data))\n",
    "#     print(\"With this trend, your expenses could possibly increase to {:0.2f} at your next purchase.\".format(mean(data)+stdev(data)))\n",
    "#     print(\"However, since your current savings are at {}, please try and be reasonable about spending.\".format(remaining_income))"
   ]
  },
  {
   "cell_type": "code",
   "execution_count": 49,
   "metadata": {},
   "outputs": [],
   "source": [
    "def purchase_analytics_text():\n",
    "    print(\"With mean: {:0.4f} and standard deviation: {:0.4f} \".format(mean(purchase_amounts), stdev(purchase_amounts)))\n",
    "    print(\"With this trend, your expenses could possibly increase to {:0.2f} at your next purchase.\".format(mean(purchase_amounts)+stdev(purchase_amounts)))"
   ]
  },
  {
   "cell_type": "code",
   "execution_count": 50,
   "metadata": {},
   "outputs": [],
   "source": [
    "# regression_plot(i, bills_01)\n",
    "# Will have a difference with purchase_regression since the data set is different"
   ]
  },
  {
   "cell_type": "code",
   "execution_count": 51,
   "metadata": {
    "scrolled": false
   },
   "outputs": [],
   "source": [
    "# purchase_regression(84)"
   ]
  },
  {
   "cell_type": "code",
   "execution_count": 52,
   "metadata": {
    "scrolled": true
   },
   "outputs": [
    {
     "data": {
      "image/png": "[encoded data removed]",
      "text/plain": [
       "<Figure size 432x288 with 1 Axes>"
      ]
     },
     "metadata": {
      "needs_background": "light"
     },
     "output_type": "display_data"
    }
   ],
   "source": [
    "purchase_analysis() "
   ]
  },
  {
   "cell_type": "code",
   "execution_count": 53,
   "metadata": {
    "scrolled": true
   },
   "outputs": [
    {
     "name": "stdout",
     "output_type": "stream",
     "text": [
      "With mean: 7.0234 and standard deviation: 48.3059 \n",
      "With this trend, your expenses could possibly increase to 55.33 at your next purchase.\n"
     ]
    }
   ],
   "source": [
    "purchase_analytics_text()"
   ]
  },
  {
   "cell_type": "code",
   "execution_count": 54,
   "metadata": {},
   "outputs": [],
   "source": [
    "# analytics_text(bills_01)\n",
    "# Will have a difference with purchase_analytics_text since the data set is different"
   ]
  },
  {
   "cell_type": "markdown",
   "metadata": {},
   "source": [
    "### Distances and Locations"
   ]
  },
  {
   "cell_type": "code",
   "execution_count": 55,
   "metadata": {},
   "outputs": [],
   "source": [
    "distances_from_home = expense_categories_data_frame['distance_from_home_vector'].apply(pd.to_numeric, errors='coerce').fillna(0)   "
   ]
  },
  {
   "cell_type": "code",
   "execution_count": null,
   "metadata": {},
   "outputs": [],
   "source": []
  },
  {
   "cell_type": "markdown",
   "metadata": {},
   "source": [
    "### Dates and Time Evalutaion"
   ]
  },
  {
   "cell_type": "code",
   "execution_count": null,
   "metadata": {},
   "outputs": [],
   "source": []
  },
  {
   "cell_type": "markdown",
   "metadata": {},
   "source": [
    "Purchase by category"
   ]
  },
  {
   "cell_type": "code",
   "execution_count": 56,
   "metadata": {},
   "outputs": [],
   "source": [
    "def determine_expense_category_value_counts_and_ranges(category):\n",
    "    print(expense_categories_data_frame[category].value_counts())\n",
    "    print('With overall size of: ', len(expense_categories_data_frame[category]))\n",
    "    print('So end the range at, ', len(expense_categories_data_frame[category])-expense_categories_data_frame[category].value_counts()[0])\n"
   ]
  },
  {
   "cell_type": "code",
   "execution_count": 57,
   "metadata": {},
   "outputs": [],
   "source": [
    "# determine_category_value_counts_and_ranges('merchant_category')"
   ]
  },
  {
   "cell_type": "code",
   "execution_count": 58,
   "metadata": {},
   "outputs": [],
   "source": [
    "# determine_category_value_counts_and_ranges('purchase_category')"
   ]
  },
  {
   "cell_type": "code",
   "execution_count": 59,
   "metadata": {},
   "outputs": [],
   "source": [
    "def visits_by_merchant_category():\n",
    "    merchant_category_frame = expense_categories_data_frame['merchant_category'][:len(expense_categories_data_frame['merchant_category'])-expense_categories_data_frame['merchant_category'].value_counts()[0]\n",
    "].value_counts()\n",
    "    merchant_category_frame.plot(kind='barh', title='Number of Occurences by Merchant Type')\n",
    "\n",
    "    plt.savefig('Number of Occurences by Merchant Type.png')"
   ]
  },
  {
   "cell_type": "code",
   "execution_count": 60,
   "metadata": {},
   "outputs": [],
   "source": [
    "def purchases_by_category():\n",
    "    purchase_category_frame = expense_categories_data_frame['purchase_category'][:len(expense_categories_data_frame['purchase_category'])-expense_categories_data_frame['purchase_category'].value_counts()[0]\n",
    "].value_counts()\n",
    "    purchase_category_frame.plot(kind='barh', title='Number of Occurences by Purchase Type')\n",
    "    \n",
    "    plt.savefig('Number of Occurences by Purchase Type.png')\n"
   ]
  },
  {
   "cell_type": "code",
   "execution_count": 61,
   "metadata": {},
   "outputs": [],
   "source": [
    "def visits_by_merchant_name():\n",
    "    merchant_name_category_frame = expense_categories_data_frame['merchant_with_highest_amount'][:len(expense_categories_data_frame['merchant_with_highest_amount'])-expense_categories_data_frame['merchant_with_highest_amount'].value_counts()[0]\n",
    "].value_counts()\n",
    "    merchant_name_category_frame.plot(kind='barh', title='Number of Occurences by Merchant')\n",
    "    \n",
    "    plt.savefig('Number of Occurences by Merchant.png')"
   ]
  },
  {
   "cell_type": "code",
   "execution_count": 62,
   "metadata": {},
   "outputs": [],
   "source": [
    "def purchases_by_distance():\n",
    "    pass\n",
    "    #Define new frame as dictionary\n",
    "    #Normalize purchase amounts\n",
    "    #Then graph the dictionary\n",
    "#     expense_categories_data_frame_dictionary = pd.DataFrame(dict(A = (purchase_amounts - mean(purchase_amounts))/stdev(purchase_amounts), B = distances_from_home)) \n",
    "#     expense_categories_data_frame_dictionary.plot(kind='hist', x='A', y='B', title='Amount Spent by Distance from Home', bins = 25)\n",
    "\n",
    "# def purchases_by_distance():\n",
    "#     expense_categories_data_frame.plot(kind='hist', x=distances_from_home, y=purchase_amounts, title='Amount Spent by Distance from Home')\n"
   ]
  },
  {
   "cell_type": "code",
   "execution_count": 63,
   "metadata": {
    "scrolled": false
   },
   "outputs": [],
   "source": [
    "purchases_by_distance()"
   ]
  },
  {
   "cell_type": "code",
   "execution_count": 64,
   "metadata": {},
   "outputs": [
    {
     "data": {
      "image/png": "[encoded data removed]",
      "text/plain": [
       "<Figure size 432x288 with 1 Axes>"
      ]
     },
     "metadata": {
      "needs_background": "light"
     },
     "output_type": "display_data"
    }
   ],
   "source": [
    "visits_by_merchant_category()"
   ]
  },
  {
   "cell_type": "code",
   "execution_count": 65,
   "metadata": {
    "scrolled": true
   },
   "outputs": [
    {
     "data": {
      "image/png": "[encoded data removed]",
      "text/plain": [
       "<Figure size 432x288 with 1 Axes>"
      ]
     },
     "metadata": {
      "needs_background": "light"
     },
     "output_type": "display_data"
    }
   ],
   "source": [
    "purchases_by_category()"
   ]
  },
  {
   "cell_type": "code",
   "execution_count": 66,
   "metadata": {},
   "outputs": [
    {
     "data": {
      "image/png": "[encoded data removed]",
      "text/plain": [
       "<Figure size 432x288 with 1 Axes>"
      ]
     },
     "metadata": {
      "needs_background": "light"
     },
     "output_type": "display_data"
    }
   ],
   "source": [
    "visits_by_merchant_name()"
   ]
  },
  {
   "cell_type": "code",
   "execution_count": 67,
   "metadata": {},
   "outputs": [],
   "source": [
    "# perform_google_search('Publix')"
   ]
  },
  {
   "cell_type": "code",
   "execution_count": 68,
   "metadata": {},
   "outputs": [
    {
     "data": {
      "text/plain": [
       "(    distance_from_home_in_miles distance_from_home_vector merchant_category  \\\n",
       " 0                             5                  0.059591       Supermarket   \n",
       " 1                             3                 0.0349393      Liquor Store   \n",
       " 2                                                              Record Store   \n",
       " 3                                                           Online Retailer   \n",
       " 4                                                           Online Retailer   \n",
       " \n",
       "   merchant_with_highest_amount  purchase_amount purchase_category  \\\n",
       " 0                       Publix             10.0              Food   \n",
       " 1                       Publix              0.0          Beverage   \n",
       " 2                          FYE              0.0     Entertainment   \n",
       " 3                       Amazon              0.0     Entertainment   \n",
       " 4                       Amazon              0.0     Entertainment   \n",
       " \n",
       "   purchase_date recurring repurchase  \n",
       " 0    31/12/2018     FALSE       TRUE  \n",
       " 1    01/01/2019     FALSE      FALSE  \n",
       " 2    02/01/2019     FALSE      FALSE  \n",
       " 3    03/01/2019     FALSE      FALSE  \n",
       " 4    04/01/2019     FALSE      FALSE  ,\n",
       "    actual_gross_annual_salary  actual_gross_weekly_salary  \\\n",
       " 0                     43513.6                       836.8   \n",
       " 1                     43513.6                       836.8   \n",
       " 2                     43513.6                       836.8   \n",
       " 3                     43513.6                       836.8   \n",
       " 4                     43513.6                       836.8   \n",
       " \n",
       "    actual_net_annual_salary  approx_taxes_due  hourly_rate hours_worked_daily  \\\n",
       " 0                  38363.97           5149.63        20.92               5.71   \n",
       " 1                  38291.97           5221.63        20.92               5.71   \n",
       " 2                  38291.97           5221.63        20.92               5.71   \n",
       " 3                  38291.97           5221.63        20.92               5.71   \n",
       " 4                  38291.97           5221.63        20.92               5.71   \n",
       " \n",
       "    hours_worked_weekly is_hourly_worker is_salary_worker  pre_tax_deductiions  \\\n",
       " 0                 40.0             TRUE            FALSE                600.0   \n",
       " 1                 40.0             TRUE            FALSE                  0.0   \n",
       " 2                 40.0             TRUE            FALSE                  0.0   \n",
       " 3                 40.0             TRUE            FALSE                  0.0   \n",
       " 4                 40.0             TRUE            FALSE                  0.0   \n",
       " \n",
       "    projected_gross_annual_salary  projected_net_annual_salary time     week_of  \n",
       " 0                        43513.6                     38363.97  day  25/02/2019  \n",
       " 1                        43513.6                     38291.97  day  04/03/2019  \n",
       " 2                        43513.6                     38291.97  day  11/03/2019  \n",
       " 3                        43513.6                     38291.97  day  18/03/2019  \n",
       " 4                        43513.6                     38291.97  day  25/03/2019  ,\n",
       " (<googleplaces.GooglePlaces at 0x7f26666a3588>,\n",
       "  <geolocation.main.GoogleMaps at 0x7f26666a3470>))"
      ]
     },
     "execution_count": 68,
     "metadata": {},
     "output_type": "execute_result"
    }
   ],
   "source": [
    "load_all_data()"
   ]
  },
  {
   "cell_type": "code",
   "execution_count": null,
   "metadata": {},
   "outputs": [],
   "source": []
  },
  {
   "cell_type": "code",
   "execution_count": 69,
   "metadata": {},
   "outputs": [],
   "source": [
    "google_places = GooglePlaces(api_key_data_frame['GooglePlaces'][1])"
   ]
  },
  {
   "cell_type": "code",
   "execution_count": 70,
   "metadata": {},
   "outputs": [],
   "source": [
    "# import geocoder\n",
    "# g = geocoder.ip('me')\n",
    "# print(type(g.latlng))\n",
    "# print(g.latlng[0])\n",
    "# print(g.latlng[1])\n"
   ]
  },
  {
   "cell_type": "code",
   "execution_count": null,
   "metadata": {},
   "outputs": [],
   "source": []
  },
  {
   "cell_type": "code",
   "execution_count": null,
   "metadata": {},
   "outputs": [],
   "source": []
  },
  {
   "cell_type": "markdown",
   "metadata": {},
   "source": [
    "Nearby Places Test Set"
   ]
  },
  {
   "cell_type": "code",
   "execution_count": 71,
   "metadata": {
    "scrolled": false
   },
   "outputs": [],
   "source": [
    "# query_results = google_places.nearby_search(\n",
    "#         lat_lng={'lat': 30.184624, 'lng': -81.552726}, \n",
    "#         radius=3200,\n",
    "#         types=[types.TYPE_RESTAURANT] or [types.TYPE_CAFE])\n",
    "\n",
    "# for place in query_results.places:\n",
    "#      place.get_details()\n",
    "#      print('%s' % (place.name))"
   ]
  },
  {
   "cell_type": "code",
   "execution_count": 72,
   "metadata": {
    "scrolled": true
   },
   "outputs": [],
   "source": [
    "\n",
    "# for place in query_results.places:\n",
    "#      place.get_details()\n",
    "#      print('%s %s %s' % (place.name, place.geo_location, place.types))\n"
   ]
  },
  {
   "cell_type": "code",
   "execution_count": 73,
   "metadata": {},
   "outputs": [],
   "source": [
    "def find_nearby_places():\n",
    "    query_results = google_places.nearby_search(\n",
    "            lat_lng={'lat': 30.184624, 'lng': -81.552726}, \n",
    "            radius=5000)\n",
    "\n",
    "    for place in query_results.places:\n",
    "         place.get_details()\n",
    "         print('%s %s' % (place.name, place.types))"
   ]
  },
  {
   "cell_type": "code",
   "execution_count": 74,
   "metadata": {},
   "outputs": [],
   "source": [
    "def places_near_me():\n",
    "    get_current_location()\n",
    "    query_results = google_places.nearby_search(\n",
    "            lat_lng={'lat': get_current_location()[0], 'lng': get_current_location()[1]}, \n",
    "            radius=5000)\n",
    "\n",
    "    for place in query_results.places:\n",
    "         place.get_details()\n",
    "         print('%s %s' % (place.name, place.types))"
   ]
  },
  {
   "cell_type": "code",
   "execution_count": 75,
   "metadata": {},
   "outputs": [],
   "source": [
    "#places_near_me()"
   ]
  },
  {
   "cell_type": "code",
   "execution_count": 76,
   "metadata": {},
   "outputs": [],
   "source": [
    "def find_nearby_restaurants():\n",
    "    query_results = google_places.nearby_search(\n",
    "            lat_lng={'lat': 30.184624, 'lng': -81.552726}, \n",
    "            radius=3200, types=[types.TYPE_RESTAURANT])\n",
    "    \n",
    "    for place in query_results.places:\n",
    "         place.get_details()\n",
    "         print('%s' % (place.name))"
   ]
  },
  {
   "cell_type": "code",
   "execution_count": 77,
   "metadata": {},
   "outputs": [],
   "source": [
    "def restaurants_near_me():\n",
    "    get_current_location()\n",
    "    query_results = google_places.nearby_search(\n",
    "            lat_lng={'lat': get_current_location()[0], 'lng': get_current_location()[1]}, \n",
    "            radius=3400, types=[types.TYPE_RESTAURANT])\n",
    "\n",
    "    for place in query_results.places:\n",
    "         place.get_details()\n",
    "         print('%s' % (place.name))"
   ]
  },
  {
   "cell_type": "code",
   "execution_count": 78,
   "metadata": {},
   "outputs": [
    {
     "name": "stdout",
     "output_type": "stream",
     "text": [
      "India's Restaurant\n",
      "Domino's Pizza\n",
      "Chili's Grill & Bar\n",
      "Red Lobster\n",
      "Tijuana Flats\n",
      "Subway Restaurants\n",
      "Pizza Hut\n",
      "Subway Restaurants\n",
      "Al's Pizza\n",
      "4 Rivers Smokehouse\n",
      "Panera Bread\n",
      "LongHorn Steakhouse\n",
      "Istanbul Grille & Hookah Lounge\n",
      "Sake Sushi\n",
      "IHOP\n",
      "Gator's Dockside Baymeadows\n",
      "The Loop Pizza Grill\n",
      "Mandaloun Mediterranean Cuisine\n",
      "5thElement Indian Restaurant\n",
      "Bowl of Pho\n"
     ]
    }
   ],
   "source": [
    "restaurants_near_me()\n"
   ]
  },
  {
   "cell_type": "code",
   "execution_count": 79,
   "metadata": {},
   "outputs": [],
   "source": [
    "# get_current_location()\n"
   ]
  },
  {
   "cell_type": "code",
   "execution_count": null,
   "metadata": {},
   "outputs": [],
   "source": []
  },
  {
   "cell_type": "code",
   "execution_count": 80,
   "metadata": {
    "scrolled": true
   },
   "outputs": [],
   "source": [
    "# find_nearby_restaurants()\n"
   ]
  },
  {
   "cell_type": "code",
   "execution_count": 81,
   "metadata": {},
   "outputs": [],
   "source": [
    "def find_nearby_cafes():\n",
    "    query_results = google_places.nearby_search(\n",
    "            lat_lng={'lat': 30.184624, 'lng': -81.552726}, \n",
    "            radius=3200, types=[types.TYPE_CAFE])\n",
    "    \n",
    "    for place in query_results.places:\n",
    "         place.get_details()\n",
    "         print('%s' % (place.name))"
   ]
  },
  {
   "cell_type": "code",
   "execution_count": 82,
   "metadata": {},
   "outputs": [],
   "source": [
    "def cafes_near_me():\n",
    "    get_current_location()\n",
    "    query_results = google_places.nearby_search(\n",
    "            lat_lng={'lat': get_current_location()[0], 'lng': get_current_location()[1]}, \n",
    "            radius=3400, types=[types.TYPE_CAFE])\n",
    "\n",
    "    for place in query_results.places:\n",
    "         place.get_details()\n",
    "         print('%s' % (place.name))"
   ]
  },
  {
   "cell_type": "code",
   "execution_count": 83,
   "metadata": {},
   "outputs": [
    {
     "name": "stdout",
     "output_type": "stream",
     "text": [
      "Panera Bread\n",
      "Julie's Cafe\n",
      "Starbucks\n",
      "Dunkin'\n",
      "Reflection Cafe\n",
      "The Coffee Grinder\n",
      "Aroma Corner\n",
      "Five Fx Ice Cream\n",
      "Mocharita's Deli\n",
      "Metro Diner\n",
      "Christian Corner Deli New York Meats Cheeses Jacksonville Fl\n",
      "Lifetree Café\n",
      "McDonald's\n",
      "Dunkin'\n",
      "RaceTrac\n",
      "Boutique du Pain\n",
      "Circle K\n",
      "Circle K\n",
      "Circle K\n",
      "Starbucks\n"
     ]
    }
   ],
   "source": [
    "cafes_near_me()\n"
   ]
  },
  {
   "cell_type": "code",
   "execution_count": 84,
   "metadata": {},
   "outputs": [],
   "source": [
    "# g = geocoder.mapquest(['Mountain View, CA', 'Boulder, Co'], method='batch')\n",
    "# for result in g:\n",
    "#     print(result.address, result.latlng)\n"
   ]
  },
  {
   "cell_type": "code",
   "execution_count": 85,
   "metadata": {},
   "outputs": [],
   "source": [
    "# find_nearby_cafes()\n"
   ]
  },
  {
   "cell_type": "code",
   "execution_count": null,
   "metadata": {},
   "outputs": [],
   "source": []
  },
  {
   "cell_type": "code",
   "execution_count": 86,
   "metadata": {},
   "outputs": [],
   "source": [
    "def find_nearby_bars():\n",
    "    query_results = google_places.nearby_search(\n",
    "            lat_lng={'lat': 30.184624, 'lng': -81.552726}, \n",
    "            radius=3200, types=[types.TYPE_BAR])\n",
    "    \n",
    "    for place in query_results.places:\n",
    "         place.get_details()\n",
    "         print('%s' % (place.name))"
   ]
  },
  {
   "cell_type": "code",
   "execution_count": 87,
   "metadata": {},
   "outputs": [],
   "source": [
    "def bars_near_me():\n",
    "    get_current_location()\n",
    "    query_results = google_places.nearby_search(\n",
    "            lat_lng={'lat': get_current_location()[0], 'lng': get_current_location()[1]}, \n",
    "            radius=3400, types=[types.TYPE_BAR])\n",
    "\n",
    "    for place in query_results.places:\n",
    "         place.get_details()\n",
    "         print('%s' % (place.name))"
   ]
  },
  {
   "cell_type": "code",
   "execution_count": 88,
   "metadata": {
    "scrolled": true
   },
   "outputs": [
    {
     "name": "stdout",
     "output_type": "stream",
     "text": [
      "Chili's Grill & Bar\n",
      "Red Lobster\n",
      "LongHorn Steakhouse\n",
      "Gator's Dockside Baymeadows\n",
      "Mandaloun Mediterranean Cuisine\n",
      "5thElement Indian Restaurant\n",
      "Pagoda Restaurant\n",
      "La Nopalera Mexican Restaurant\n",
      "My Place Bar & Grill\n",
      "Veterans United Craft Brewery\n",
      "Maa Kitchen\n",
      "Smash\n",
      "Mojitos Caribbean Cuisine Bar And Grill\n",
      "Salsas of Philips Highway\n",
      "My Tap Room\n",
      "Chelsea's Bar & Grille\n",
      "1000 Degrees Pizza Salad Wings Jacksonville\n",
      "Paradise Gentlemen's Club\n",
      "Eagle's Bar & Cafe\n",
      "Restaurante Brasileiro Jacksonville\n"
     ]
    }
   ],
   "source": [
    "bars_near_me()\n"
   ]
  },
  {
   "cell_type": "code",
   "execution_count": 89,
   "metadata": {},
   "outputs": [],
   "source": [
    "#Redundant\n",
    "# def find_places_to_drink():\n",
    "#     find_nearby_cafes()\n",
    "#     find_nearby_bars()"
   ]
  },
  {
   "cell_type": "code",
   "execution_count": null,
   "metadata": {
    "scrolled": false
   },
   "outputs": [],
   "source": []
  },
  {
   "cell_type": "code",
   "execution_count": 90,
   "metadata": {},
   "outputs": [],
   "source": [
    "# determine_category_value_counts_and_ranges('purchase_amount')"
   ]
  },
  {
   "cell_type": "markdown",
   "metadata": {},
   "source": [
    "### View the budget"
   ]
  },
  {
   "cell_type": "code",
   "execution_count": 91,
   "metadata": {},
   "outputs": [],
   "source": [
    "# Plot Data\n",
    "def budget_image():\n",
    "    # visual_expense = pd.read_excel(\"bills_01.xlsx\")\n",
    "    # Change \"person 1\" and \"person 2\" to draw names from spreadsheet\n",
    "    # data = pd.DataFrame([visual_expense], index = [\"person 1\", \"person 2\"])\n",
    "    \n",
    "    features = list(data)\n",
    "    number_of_features = len(features)\n",
    "    \n",
    "    values_for_person_one = data.iloc[0].tolist()\n",
    "    values_for_person_one += values_for_person_one[:1]\n",
    "    \n",
    "    values_for_person_two = data.iloc[1].tolist()\n",
    "    values_for_person_two += values_for_person_two[:1]\n",
    "    \n",
    "    angles = [n / float(number_of_features) * 2 * pi for n in range(number_of_features)]\n",
    "    angles += angles[:1]\n",
    "    \n",
    "    ax = plt.subplot(111, polar = True)\n",
    "    \n",
    "    plt.xticks(angles[:-1], features)\n",
    "    \n",
    "    ax.plot(angles, values_for_person_one)\n",
    "    ax.plot(angles, values_for_person_two)\n",
    "    \n",
    "    ax.fill(angles, values_for_person_one, 'blue', alpha = 0.1)\n",
    "    axis.set_title(\"Person 1\")\n",
    "    plt.show()\n",
    "    \n",
    "    ax.fill(angles, values_for_person_two, 'red', alpha = 0.1)\n",
    "    axis.set_title(\"Person 2\")\n",
    "    plt.show()\n",
    "    \n",
    "    \n",
    "#    Pie chart\n",
    "#    labels = 'Rent', 'Water', 'Power', 'Retirement', 'Health Care', 'Car Insurance', 'Rent Insurance', 'PAY PERIOD'\n",
    "#    sizes = [rental, wat_bill, pow_bill, ret_ded, health_ded, car_ins, rent_ins, PAY_PERIOD()]\n",
    "#    explode = (0, 0, 0, 0, 0, 0, 0, 0.1)\n",
    "\n",
    "#    fig1, ax1 = plt.subplots()\n",
    "#    ax1.pie(sizes, explode = explode, labels = labels, autopct = '%1.2f%%',\n",
    "#            shadow = True, startangle = 90)\n",
    "#    ax1.axis('equal') # aspect ratio to make it a circle\n",
    "#    plt.show()"
   ]
  },
  {
   "cell_type": "markdown",
   "metadata": {},
   "source": [
    "##### Budget view function"
   ]
  },
  {
   "cell_type": "code",
   "execution_count": 92,
   "metadata": {},
   "outputs": [],
   "source": [
    "def view_test_budget(person, data):    \n",
    "    \n",
    "    \n",
    "#   features = list(pd.DataFrame([pd.read_excel(\"bills_01.xlsx\")], index = [\"person 1\", \"person 2\"]))\n",
    "    features = [\"Rent\", \"Water\", \"Power\", \"Entertainment\", \"Health Care\", \"Insurance: Car\", \"Insurance: Housing\", \"Else\"]\n",
    "    features_of_interest = len(features)\n",
    "    \n",
    "    data += data [:1]\n",
    "    \n",
    "    angles = [n / (features_of_interest) * 2 * pi for n in range(features_of_interest)]\n",
    "    angles += angles [:1]\n",
    "    \n",
    "    ax = plt.subplot(111, polar=True)\n",
    "\n",
    "    plt.xticks(angles[:-1], features)\n",
    "    ax.plot(angles, data)\n",
    "    ax.fill(angles, data, 'red', alpha=0.1)\n",
    "\n",
    "    ax.set_title(person)\n",
    "    plt.show()\n",
    "    \n",
    "# features = list(pd.DataFrame([pd.read_excel(\"bills_01.xlsx\")], index = [\"person 1\", \"person 2\"]))\n",
    "# features = [\"Rent\", \"Water\", \"Power\", \"Entertainment\", \"Health Care\", \"Insurance: Car\", \"Insurance: Housing\", \"Else\"]\n",
    "# features_of_interest = len(features) + 1\n",
    "# print(features_of_interest)    "
   ]
  },
  {
   "cell_type": "code",
   "execution_count": 93,
   "metadata": {},
   "outputs": [],
   "source": [
    "\n",
    "def determine_work_category_value_counts_and_ranges(category):\n",
    "    print(work_hours_categories_data_frame[category].value_counts())\n",
    "    print('With overall size of: ', len(work_hours_categories_data_frame[category]))\n",
    "    print('So end the range at, ', len(work_hours_categories_data_frame[category])-work_hours_categories_data_frame[category].value_counts()[0])\n"
   ]
  },
  {
   "cell_type": "code",
   "execution_count": 94,
   "metadata": {
    "scrolled": true
   },
   "outputs": [],
   "source": [
    "# determine_work_category_value_counts_and_ranges('actual_net_annual_salary')\n"
   ]
  },
  {
   "cell_type": "code",
   "execution_count": 95,
   "metadata": {},
   "outputs": [],
   "source": [
    "# work_hours_categories_data_frame.groupby(['actual_net_annual_salary', 'week_of'])\n"
   ]
  },
  {
   "cell_type": "code",
   "execution_count": 96,
   "metadata": {},
   "outputs": [],
   "source": [
    "# categorized_purchases = expense_related_worksheet.get_worksheet(5)\n",
    "\n",
    "# categorized_purchases_data_frame_source = pd.DataFrame(categorized_purchases.get_all_records())\n",
    "\n",
    "# categorized_purchases_data_frame = categorized_purchases_data_frame_source.copy()\n",
    "\n",
    "# categorized_purchases_data_frame.head()\n"
   ]
  },
  {
   "cell_type": "markdown",
   "metadata": {},
   "source": [
    "Testing area for graphs of budget information."
   ]
  },
  {
   "cell_type": "code",
   "execution_count": 97,
   "metadata": {},
   "outputs": [],
   "source": [
    "# expense_categories_data_frame.head()"
   ]
  },
  {
   "cell_type": "code",
   "execution_count": 98,
   "metadata": {
    "scrolled": true
   },
   "outputs": [],
   "source": [
    "# expense_categories_data_frame['purchase_category'].value_counts()\n",
    "\n",
    "#grouped_purchases_source = expense_categories_data_frame.groupby(['purchase_category'])['purchase_amount'].sum()\n",
    "#grouped_purchases_source = expense_categories_data_frame.groupby(['purchase_category']).sum()\n",
    "\n",
    "#grouped_purchases_source = expense_categories_data_frame.groupby(['purchase_category']).agg({'purchase_amount': 'sum'}).reset_index()[1:]\n",
    "\n",
    "#print(type(grouped_purchases_source[1:]))\n",
    "#print(grouped_purchases_source[1:])\n",
    "\n",
    "#grouped_purchase_categories = pd.DataFrame(grouped_purchases_source, columns=['purchase_category','purchase_amount'])\n",
    "\n",
    "#print(grouped_purchase_categories)\n",
    "\n",
    "# grouped_purchase_category = pd.DataFrame(columns = ['purchase_category', 'purchase_amount'], \n",
    "#                                         index = [expense_categories_data_frame['purchase_category'], expense_categories_data_frame['purchase_amount']])\n",
    "\n",
    "# grouped_purchase_category = pd.DataFrame(columns =['purchase_category', 'purchase_amount']) \n",
    "\n",
    "# i=0\n",
    "# j=0\n",
    "# for field in list(expense_categories_data_frame['purchase_category'].unique()):\n",
    "#     for value in dict(expense_categories_data_frame.groupby(['purchase_category']).sum()[1:])['purchase_amount']:\n",
    "\n",
    "#         grouped_purchase_category.loc[i] = (field, value)\n",
    "#     i += 1\n",
    "    \n",
    "#     amount = grouped_purchases_source\n",
    "#     grouped_purchase_category.loc[i] = (field, amount)\n",
    "#     i += 1\n",
    "\n",
    "#     for float in list(expense_categories_data_frame['purchase_amount']):\n",
    "#         amount = expense_categories_data_frame['purchase_amount']\n",
    "#         j+=1\n",
    "#     grouped_purchase_category.loc[i] = (field, amount)\n",
    "#     i += 1\n",
    "    \n",
    "#print(grouped_purchase_category)\n",
    "#print(grouped_purchases_source)\n",
    "\n",
    "#grouped_purchase_categories = grouped_purchases_source['purchase_category']"
   ]
  },
  {
   "cell_type": "code",
   "execution_count": 99,
   "metadata": {},
   "outputs": [],
   "source": [
    "# grouped_purchases_source = expense_categories_data_frame.groupby(['purchase_category']).sum()\n",
    "\n",
    "# print(type(grouped_purchases_source[1:]))\n",
    "# print(grouped_purchases_source[1:])\n",
    "\n",
    "#(expense_categories_data_frame['purchase_amount'])\n",
    "\n",
    "# for float in dict(expense_categories_data_frame.groupby(['purchase_category']).sum()[1:])['purchase_amount']:\n",
    "#     print (float)"
   ]
  },
  {
   "cell_type": "code",
   "execution_count": 100,
   "metadata": {
    "scrolled": true
   },
   "outputs": [],
   "source": [
    "# grouped_purchases_source.head()"
   ]
  },
  {
   "cell_type": "code",
   "execution_count": 101,
   "metadata": {},
   "outputs": [],
   "source": [
    "# grouped_purchase_categories['purchase_category'][1:]"
   ]
  },
  {
   "cell_type": "code",
   "execution_count": 102,
   "metadata": {},
   "outputs": [],
   "source": [
    "# grouped_purchase_categories['purchase_amount'][1:]\n"
   ]
  },
  {
   "cell_type": "markdown",
   "metadata": {},
   "source": []
  },
  {
   "cell_type": "code",
   "execution_count": 103,
   "metadata": {},
   "outputs": [],
   "source": [
    "# categorized_merchants = expense_related_worksheet.get_worksheet(6)\n",
    "\n",
    "# categorized_merchants_data_frame_source = pd.DataFrame(categorized_merchants.get_all_records())\n",
    "\n",
    "# categorized_merchants_data_frame = categorized_merchants_data_frame_source.copy()\n",
    "\n",
    "# categorized_merchants_data_frame.head()\n"
   ]
  },
  {
   "cell_type": "code",
   "execution_count": 104,
   "metadata": {},
   "outputs": [],
   "source": [
    "# expense_categories_data_frame['purchase_category'].unique()[:-1]"
   ]
  },
  {
   "cell_type": "code",
   "execution_count": 105,
   "metadata": {},
   "outputs": [],
   "source": [
    "# grouped_purchases_source = expense_categories_data_frame.groupby(['purchase_category']).agg({'purchase_amount': 'sum'}).reset_index()[1:]\n",
    "\n",
    "# print('Purchase amount length is ', len(grouped_purchases_source['purchase_amount']))\n",
    "# print('Purchase category length is ',len(grouped_purchases_source['purchase_category']))"
   ]
  },
  {
   "cell_type": "code",
   "execution_count": 106,
   "metadata": {},
   "outputs": [],
   "source": [
    "# grouped_merchant_source = expense_categories_data_frame.groupby(['merchant_with_highest_amount']).agg({'purchase_amount': 'sum'}).reset_index()[1:]\n",
    "\n",
    "# print('Purchase amount length is ', len(grouped_merchant_source['purchase_amount']))\n",
    "# print('merchant_with_highest_amount length is ',len(grouped_merchant_source['merchant_with_highest_amount']))\n"
   ]
  },
  {
   "cell_type": "code",
   "execution_count": 107,
   "metadata": {},
   "outputs": [],
   "source": [
    "def view_annual_budget():\n",
    "    \n",
    "    #Just to make sure the data gets loaded properly\n",
    "    #The lines below reload the categorized purchases data frame\n",
    "#     categorized_purchases = expense_related_worksheet.get_worksheet(5)\n",
    "#     categorized_purchases_data_frame_source = pd.DataFrame(categorized_purchases.get_all_records())\n",
    "#     categorized_purchases_data_frame = categorized_purchases_data_frame_source.copy()\n",
    "    \n",
    "    grouped_purchases_source = expense_categories_data_frame.groupby(['purchase_category']).agg({'purchase_amount': 'sum'}).reset_index() \n",
    "    features = grouped_purchases_source['purchase_category'][1:]\n",
    "#     features = expense_categories_data_frame['purchase_category'].unique()[:-1]\n",
    "#     features = list(categorized_purchases_data_frame['categories'])\n",
    "    features_of_interest = len(features)\n",
    "    \n",
    "    data = grouped_purchases_source['purchase_amount']\n",
    "#    data += data[:1]\n",
    "    \n",
    "    angles = [n / (features_of_interest) * 2 * pi for n in range(features_of_interest)]\n",
    "    angles += angles [:1]\n",
    "    \n",
    "    ax = plt.subplot(111, polar=True)\n",
    "\n",
    "    plt.xticks(angles[:-1], features)\n",
    "    ax.plot(angles, data)\n",
    "    ax.fill(angles, data, 'blue', alpha=0.3)\n",
    "\n",
    "    ax.set_title(\"Your Annual Budget\")\n",
    "    \n",
    "    plt.savefig(\"Your Annual Budget.png\")\n",
    "    plt.show()"
   ]
  },
  {
   "cell_type": "code",
   "execution_count": 108,
   "metadata": {},
   "outputs": [
    {
     "data": {
      "image/png": "[encoded data removed]",
      "text/plain": [
       "<Figure size 432x288 with 1 Axes>"
      ]
     },
     "metadata": {
      "needs_background": "light"
     },
     "output_type": "display_data"
    }
   ],
   "source": [
    "view_annual_budget()\n"
   ]
  },
  {
   "cell_type": "code",
   "execution_count": 109,
   "metadata": {},
   "outputs": [],
   "source": [
    "def view_merchant_spending():\n",
    "    \n",
    "    grouped_merchant_source = expense_categories_data_frame.groupby(['merchant_with_highest_amount']).agg({'purchase_amount': 'sum'}).reset_index()[1:]\n",
    "    \n",
    "    features = grouped_merchant_source['merchant_with_highest_amount'][1:]\n",
    "    features_of_interest = len(features)\n",
    "    \n",
    "    data = grouped_merchant_source['purchase_amount']\n",
    "    \n",
    "    angles = [n / (features_of_interest) * 2 * pi for n in range(features_of_interest)]\n",
    "    angles += angles [:1]\n",
    "    \n",
    "    ax = plt.subplot(111, polar=True)\n",
    "\n",
    "    plt.xticks(angles[:-1], features)\n",
    "    ax.plot(angles, data)\n",
    "    ax.fill(angles, data, 'blue', alpha=0.3)\n",
    "\n",
    "    ax.set_title(\"Your Most Visited Merchants\")\n",
    "    plt.savefig(\"Your Most Visited Merchants.png\")\n",
    "    \n",
    "    plt.show()"
   ]
  },
  {
   "cell_type": "code",
   "execution_count": 110,
   "metadata": {},
   "outputs": [
    {
     "data": {
      "image/png": "[encoded data removed]",
      "text/plain": [
       "<Figure size 432x288 with 1 Axes>"
      ]
     },
     "metadata": {
      "needs_background": "light"
     },
     "output_type": "display_data"
    }
   ],
   "source": [
    "view_merchant_spending()"
   ]
  },
  {
   "cell_type": "markdown",
   "metadata": {},
   "source": [
    "***"
   ]
  },
  {
   "cell_type": "markdown",
   "metadata": {},
   "source": [
    "Begin back propagation...or not since it's just a more complicated version of gradient descent"
   ]
  },
  {
   "cell_type": "code",
   "execution_count": 111,
   "metadata": {},
   "outputs": [],
   "source": [
    "sigma = lambda z : 1 / (1 + np.exp(-z))\n",
    "d_sigma = lambda z : np.cosh(z/2)**(-2) / 4\n",
    "\n",
    "#initialize network structure and clear past trainings\n",
    "def reset_network (n1 = 6, n2 = 7, random=np.random) :\n",
    "    global W1, W2, W3, b1, b2, b3\n",
    "    W1 = random.randn(n1, 1) / 2\n",
    "    W2 = random.randn(n2, n1) / 2\n",
    "    W3 = random.randn(2, n2) / 2\n",
    "    b1 = random.randn(n1, 1) / 2\n",
    "    b2 = random.randn(n2, 1) / 2\n",
    "    b3 = random.randn(2, 1) / 2\n",
    "\n",
    "#generate the network\n",
    "def network_function(a0):\n",
    "    z1 = W1 @ a0 + b1\n",
    "    a1 = sigma(z1)\n",
    "    z2 = W2 @ a1 + b2\n",
    "    a2 = sigma(z2)\n",
    "    z3 = W3 @ a2 + b3\n",
    "    a3 = sigma(z3)\n",
    "    return a0, z1, a1, z2, a2, z3, a3\n",
    "\n",
    "#Cost function\n",
    "def cost(x, y) :\n",
    "    return np.linalg.norm(network_function(x)[-1] - y)**2 / x.size\n",
    "\n",
    "#first node\n",
    "def J_W3 (x, y) :\n",
    "    a0, z1, a1, z2, a2, z3, a3 = network_function(x)\n",
    "    J = 2 * (a3 - y)\n",
    "    J = J * d_sigma(z3)\n",
    "    J = J @ a2.T / x.size\n",
    "    return J\n",
    "\n",
    "def J_b3 (x, y) :\n",
    "    a0, z1, a1, z2, a2, z3, a3 = network_function(x)\n",
    "    J = 2 * (a3 - y) \n",
    "    J = J * d_sigma(z3)\n",
    "    J = np.sum(J, axis=1, keepdims=True) / x.size\n",
    "    return J\n",
    "\n",
    "#second node\n",
    "def J_W2 (x, y) :\n",
    "    a0, z1, a1, z2, a2, z3, a3 = network_function(x)    \n",
    "    J = 2 * (a3 - y)\n",
    "    J = J * d_sigma(z3)\n",
    "    J = (J.T @ W3).T\n",
    "    J = J * d_sigma(z2)\n",
    "    J = J @ a1.T / x.size\n",
    "    return J\n",
    "\n",
    "def J_b2 (x, y) :\n",
    "    a0, z1, a1, z2, a2, z3, a3 = network_function(x)\n",
    "    J = 2 * (a3 - y)\n",
    "    J = J * d_sigma(z3)\n",
    "    J = (J.T @ W3).T\n",
    "    J = J * d_sigma(z2)\n",
    "    J = np.sum(J, axis=1, keepdims=True) / x.size\n",
    "    return J\n",
    "\n",
    "#third node\n",
    "def J_W1 (x, y) :\n",
    "    a0, z1, a1, z2, a2, z3, a3 = network_function(x)\n",
    "    J = 2 * (a3 - y)\n",
    "    J = J * d_sigma(z3)\n",
    "    J = (J.T @ W3).T\n",
    "    J = J * d_sigma(z2)\n",
    "    J = (J.T @ W2).T\n",
    "    J = J * d_sigma(z1)\n",
    "    J = J @ a0.T / x.size\n",
    "    return J\n",
    "\n",
    "def J_b1 (x, y) :\n",
    "    a0, z1, a1, z2, a2, z3, a3 = network_function(x)\n",
    "    J = 2 * (a3 - y)\n",
    "    J = J * d_sigma(z3)\n",
    "    J = (J.T @ W3).T\n",
    "    J = J * d_sigma(z2)\n",
    "    J = (J.T @ W2).T\n",
    "    J = J * d_sigma(z1)\n",
    "    J = np.sum(J, axis=1, keepdims=True) / x.size\n",
    "    return J"
   ]
  },
  {
   "cell_type": "markdown",
   "metadata": {},
   "source": [
    "Begin machine learning prediction MK II: SGD Classification"
   ]
  },
  {
   "cell_type": "code",
   "execution_count": 112,
   "metadata": {},
   "outputs": [],
   "source": [
    "from sklearn.linear_model import SGDClassifier\n",
    "\n",
    "# classifier = SGDClassifier(loss=\"L2\", penalty=\"none\", max_iter=10)\n",
    "#L2 norm not supported"
   ]
  },
  {
   "cell_type": "markdown",
   "metadata": {},
   "source": [
    "###### Begin prediction MK I: gradient descent"
   ]
  },
  {
   "cell_type": "markdown",
   "metadata": {},
   "source": [
    "Notes:\n",
    "    Python doesn't immediately intepret the full set of dimensions for a multidimensional array if one of the the dimentions is 1.\n",
    "     Culprit 1: So must cast as np.matrix to compensate.\n",
    "     Culprit 2: Not able to handle very large numbers. So we can import Decimal.\n",
    "     Culprit 3: Possibly using np.power() might bypass computational error\n",
    "     Culprit 4: np.square also induces computational error\n",
    "     Culprit 5: Cross products don't work since they will result in an orthogonal vector\n",
    "     Culprit 6: np.vectorize ????\n",
    "     Culprit 7: reduce(fxn, array)\n",
    "     Culprit 8: Fuck it. Run without any instances of np.matrix."
   ]
  },
  {
   "cell_type": "code",
   "execution_count": 113,
   "metadata": {},
   "outputs": [],
   "source": [
    "x = np.matrix('1, 2; 3, 4; 5, 0')\n",
    "squarer = lambda t: t ** 2\n",
    "#vfunc = np.vectorize(squarer)\n",
    "#vfunc(x)"
   ]
  },
  {
   "cell_type": "code",
   "execution_count": 114,
   "metadata": {},
   "outputs": [
    {
     "name": "stdout",
     "output_type": "stream",
     "text": [
      "[[0, 1, 4, 9], 13, 4]\n"
     ]
    }
   ],
   "source": [
    "from functools import reduce\n",
    "def my_reduce(x, y):\n",
    "    length=len(x[0])-1\n",
    "    newY = y**2\n",
    "    # print('x', \n",
    "    # x,\n",
    "    # 'beg len',\n",
    "    # len(x[0]),\n",
    "    # 'end len',\n",
    "    # x[0][len(x[0])-1]\n",
    "    # ,'y', y)\n",
    "\n",
    "\n",
    "    # 1) component wise squaring\n",
    "    x[0].append(newY)\n",
    "    # 2) dot product for each value.\n",
    "    x[1] = x[0][length]+newY\n",
    "    # 3) delta of component wise by dot product.\n",
    "    x[2] = (x[1] - x[0][length+1])\n",
    "\n",
    "    return x\n",
    "\n",
    "print(reduce(my_reduce, [1, 2, 3], [[0],0,0]))"
   ]
  },
  {
   "cell_type": "code",
   "execution_count": 123,
   "metadata": {},
   "outputs": [
    {
     "name": "stdout",
     "output_type": "stream",
     "text": [
      "<class 'numpy.ndarray'>\n",
      "(86,)\n",
      "0.03929499570611901\n"
     ]
    }
   ],
   "source": [
    "from decimal import Decimal\n",
    "from functools import reduce\n",
    "\n",
    "def gradientDescent(x, y, theta, alpha, N, iterations):\n",
    "    for iter in range(iterations):\n",
    "#         x_transpose = x.transpose()\n",
    "        hypothesis = np.dot(x, theta)\n",
    "        squared_errors = (hypothesis - y) **2\n",
    "        cost = squared_errors / (2 * N)\n",
    "#         print(\"At iteration {}, the cost is {}\".format(iter, cost))\n",
    "\n",
    "        gradient = np.dot(x, squared_errors) / N\n",
    "        # update theta\n",
    "        theta = theta - alpha * gradient\n",
    "\n",
    "    return theta\n",
    "\n",
    "# print(type(i))\n",
    "# print(type(bills_01))\n",
    "\n",
    "# print((np.dot(i, theta) - bills_01).shape)\n",
    "# print((bills_01).shape)\n",
    "# print(np.matrix(i))\n",
    "\n",
    "grouped_purchases_source = expense_categories_data_frame.groupby(['purchase_category']).agg({'purchase_amount': 'sum'}).reset_index() \n",
    "i = range(0, len(expense_categories_data_frame['purchase_amount'])-expense_categories_data_frame['purchase_amount'].value_counts()[0]+1)\n",
    "j = purchase_amounts[0:len(expense_categories_data_frame['purchase_amount'])-expense_categories_data_frame['purchase_amount'].value_counts()[0]+1]\n",
    "N = len(i)\n",
    "# temp_N = len(temp_i)\n",
    "iterations = 10000\n",
    "alpha = 0.000000000005\n",
    "\n",
    "theta = np.ones(N)\n",
    "# temp_theta = np.ones(temp_N)\n",
    "theta = gradientDescent(i, j, theta, alpha, N, iterations)\n",
    "# print(\"({:0.4f},{:0.4f})\".format(theta[0][0], theta[1]))\n",
    "print(type(theta))\n",
    "print(theta.shape)\n",
    "print(theta[0])\n",
    "# theta = gradientDescent(temp_i, temp_bills, temp_theta, alpha, temp_N, iterations)\n",
    "\n",
    "# Determine the capacity for what can be done in the vein of gradient descent on cost here"
   ]
  },
  {
   "cell_type": "code",
   "execution_count": null,
   "metadata": {},
   "outputs": [],
   "source": []
  }
 ],
 "metadata": {
  "kernelspec": {
   "display_name": "Python 3",
   "language": "python",
   "name": "python3"
  },
  "language_info": {
   "codemirror_mode": {
    "name": "ipython",
    "version": 3
   },
   "file_extension": ".py",
   "mimetype": "text/x-python",
   "name": "python",
   "nbconvert_exporter": "python",
   "pygments_lexer": "ipython3",
   "version": "3.7.3"
  }
 },
 "nbformat": 4,
 "nbformat_minor": 2
}
